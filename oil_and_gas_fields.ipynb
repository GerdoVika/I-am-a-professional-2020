{
 "cells": [
  {
   "cell_type": "markdown",
   "metadata": {},
   "source": [
    "## Задача\n",
    "В базе данных нефтегазовых месторождений одной компании произошёл системный сбой и информация о типе месторождения по расположению (на берегу или в открытом море) была удалена. Так как эта информация крайне важна, вам необходимо восстановить её в пострадавшем датасете.\n",
    "В качестве тренировочного датасета можете использовать неиспорченный датасет.\n",
    "Входные данные: тренировочный датасет train.csv, в котором поля обозначают следующее:\n",
    "Tectonic regime - тектонический режим месторождения\n",
    "Onshore/Offshore - тип месторождения по расположению\n",
    "Hydrocarbon type - тип углеводородов\n",
    "Reservoir status - статус разработки месторождения\n",
    "Structural setting - структурные особенности месторождения\n",
    "Depth - средняя глубина кровли резервуара\n",
    "Period - геологическая система образования резервуара\n",
    "Lithology - основной литологический состав коллектора\n",
    "Gross - среднее значение общей толщины резервуара\n",
    "Netpay - среднее значение эффективной углеводородонасыщенной толщины коллектора Porosity - среднее значение матричной пористости Permeability - среднее значение проницаемости по воздуху.\n"
   ]
  },
  {
   "cell_type": "markdown",
   "metadata": {},
   "source": [
    "## Подготовка данных"
   ]
  },
  {
   "cell_type": "code",
   "execution_count": 342,
   "metadata": {},
   "outputs": [],
   "source": [
    "import pandas as pd\n",
    "import numpy as np\n",
    "import matplotlib.pyplot as plt\n",
    "import seaborn as sns\n",
    "%matplotlib inline"
   ]
  },
  {
   "cell_type": "code",
   "execution_count": 343,
   "metadata": {},
   "outputs": [],
   "source": [
    "train = pd.read_csv('train.csv')\n",
    "test = pd.read_csv('test.csv')"
   ]
  },
  {
   "cell_type": "code",
   "execution_count": 344,
   "metadata": {},
   "outputs": [
    {
     "name": "stdout",
     "output_type": "stream",
     "text": [
      "<class 'pandas.core.frame.DataFrame'>\n",
      "RangeIndex: 309 entries, 0 to 308\n",
      "Data columns (total 12 columns):\n",
      " #   Column              Non-Null Count  Dtype  \n",
      "---  ------              --------------  -----  \n",
      " 0   Tectonic regime     309 non-null    object \n",
      " 1   Onshore/Offshore    309 non-null    object \n",
      " 2   Hydrocarbon type    309 non-null    object \n",
      " 3   Reservoir status    309 non-null    object \n",
      " 4   Structural setting  309 non-null    object \n",
      " 5   Depth               309 non-null    int64  \n",
      " 6   Period              309 non-null    object \n",
      " 7   Lithology           309 non-null    object \n",
      " 8   Gross               309 non-null    float64\n",
      " 9   Netpay              309 non-null    float64\n",
      " 10  Porosity            309 non-null    float64\n",
      " 11  Permeability        309 non-null    float64\n",
      "dtypes: float64(4), int64(1), object(7)\n",
      "memory usage: 29.1+ KB\n"
     ]
    }
   ],
   "source": [
    "train.info()"
   ]
  },
  {
   "cell_type": "markdown",
   "metadata": {},
   "source": [
    "- ectonic regime – тектонический режим месторождения\n",
    "- Onshore/Oﬀshore – тип месторождения по расположению -> целевой признак\n",
    "- Hydrocarbon type – тип углеводородов\n",
    "- Reservoir status – статус разработки месторождения\n",
    "- Structural setting – структурные особенности месторождения\n",
    "- Depth – средняя глубина кровли резервуара\n",
    "- Period – геологическая система образования резервуара\n",
    "- Lithology – основной литологический состав коллектора\n",
    "- Gross – среднее значение общей толщины резервуара\n",
    "- Netpay – среднее значение эффективной углеводородонасыщенной толщины коллектора\n",
    "- Porosity – среднее значение матричной пористости\n",
    "- Permeability – среднее значение проницаемости по воздуху."
   ]
  },
  {
   "cell_type": "code",
   "execution_count": 345,
   "metadata": {},
   "outputs": [
    {
     "data": {
      "text/html": [
       "<div>\n",
       "<style scoped>\n",
       "    .dataframe tbody tr th:only-of-type {\n",
       "        vertical-align: middle;\n",
       "    }\n",
       "\n",
       "    .dataframe tbody tr th {\n",
       "        vertical-align: top;\n",
       "    }\n",
       "\n",
       "    .dataframe thead th {\n",
       "        text-align: right;\n",
       "    }\n",
       "</style>\n",
       "<table border=\"1\" class=\"dataframe\">\n",
       "  <thead>\n",
       "    <tr style=\"text-align: right;\">\n",
       "      <th></th>\n",
       "      <th>Depth</th>\n",
       "      <th>Gross</th>\n",
       "      <th>Netpay</th>\n",
       "      <th>Porosity</th>\n",
       "      <th>Permeability</th>\n",
       "    </tr>\n",
       "  </thead>\n",
       "  <tbody>\n",
       "    <tr>\n",
       "      <th>count</th>\n",
       "      <td>309.000000</td>\n",
       "      <td>309.000000</td>\n",
       "      <td>309.000000</td>\n",
       "      <td>309.000000</td>\n",
       "      <td>309.000000</td>\n",
       "    </tr>\n",
       "    <tr>\n",
       "      <th>mean</th>\n",
       "      <td>6726.242718</td>\n",
       "      <td>798.440129</td>\n",
       "      <td>204.166084</td>\n",
       "      <td>17.929709</td>\n",
       "      <td>463.048544</td>\n",
       "    </tr>\n",
       "    <tr>\n",
       "      <th>std</th>\n",
       "      <td>3506.266685</td>\n",
       "      <td>1329.172384</td>\n",
       "      <td>285.145971</td>\n",
       "      <td>7.644533</td>\n",
       "      <td>981.882456</td>\n",
       "    </tr>\n",
       "    <tr>\n",
       "      <th>min</th>\n",
       "      <td>220.000000</td>\n",
       "      <td>11.000000</td>\n",
       "      <td>0.000000</td>\n",
       "      <td>1.300000</td>\n",
       "      <td>0.010000</td>\n",
       "    </tr>\n",
       "    <tr>\n",
       "      <th>25%</th>\n",
       "      <td>3940.000000</td>\n",
       "      <td>145.000000</td>\n",
       "      <td>46.000000</td>\n",
       "      <td>12.000000</td>\n",
       "      <td>10.000000</td>\n",
       "    </tr>\n",
       "    <tr>\n",
       "      <th>50%</th>\n",
       "      <td>6580.000000</td>\n",
       "      <td>353.000000</td>\n",
       "      <td>118.000000</td>\n",
       "      <td>17.000000</td>\n",
       "      <td>90.000000</td>\n",
       "    </tr>\n",
       "    <tr>\n",
       "      <th>75%</th>\n",
       "      <td>9327.000000</td>\n",
       "      <td>790.000000</td>\n",
       "      <td>240.000000</td>\n",
       "      <td>24.000000</td>\n",
       "      <td>450.000000</td>\n",
       "    </tr>\n",
       "    <tr>\n",
       "      <th>max</th>\n",
       "      <td>18050.000000</td>\n",
       "      <td>10500.000000</td>\n",
       "      <td>2976.000000</td>\n",
       "      <td>55.000000</td>\n",
       "      <td>7500.000000</td>\n",
       "    </tr>\n",
       "  </tbody>\n",
       "</table>\n",
       "</div>"
      ],
      "text/plain": [
       "              Depth         Gross       Netpay    Porosity  Permeability\n",
       "count    309.000000    309.000000   309.000000  309.000000    309.000000\n",
       "mean    6726.242718    798.440129   204.166084   17.929709    463.048544\n",
       "std     3506.266685   1329.172384   285.145971    7.644533    981.882456\n",
       "min      220.000000     11.000000     0.000000    1.300000      0.010000\n",
       "25%     3940.000000    145.000000    46.000000   12.000000     10.000000\n",
       "50%     6580.000000    353.000000   118.000000   17.000000     90.000000\n",
       "75%     9327.000000    790.000000   240.000000   24.000000    450.000000\n",
       "max    18050.000000  10500.000000  2976.000000   55.000000   7500.000000"
      ]
     },
     "execution_count": 345,
     "metadata": {},
     "output_type": "execute_result"
    }
   ],
   "source": [
    "train.describe()"
   ]
  },
  {
   "cell_type": "code",
   "execution_count": 346,
   "metadata": {},
   "outputs": [
    {
     "data": {
      "text/html": [
       "<div>\n",
       "<style scoped>\n",
       "    .dataframe tbody tr th:only-of-type {\n",
       "        vertical-align: middle;\n",
       "    }\n",
       "\n",
       "    .dataframe tbody tr th {\n",
       "        vertical-align: top;\n",
       "    }\n",
       "\n",
       "    .dataframe thead th {\n",
       "        text-align: right;\n",
       "    }\n",
       "</style>\n",
       "<table border=\"1\" class=\"dataframe\">\n",
       "  <thead>\n",
       "    <tr style=\"text-align: right;\">\n",
       "      <th></th>\n",
       "      <th>Tectonic regime</th>\n",
       "      <th>Onshore/Offshore</th>\n",
       "      <th>Hydrocarbon type</th>\n",
       "      <th>Reservoir status</th>\n",
       "      <th>Structural setting</th>\n",
       "      <th>Depth</th>\n",
       "      <th>Period</th>\n",
       "      <th>Lithology</th>\n",
       "      <th>Gross</th>\n",
       "      <th>Netpay</th>\n",
       "      <th>Porosity</th>\n",
       "      <th>Permeability</th>\n",
       "    </tr>\n",
       "  </thead>\n",
       "  <tbody>\n",
       "    <tr>\n",
       "      <th>0</th>\n",
       "      <td>STRIKE-SLIP/TRANSPRESSION/BASEMENT-I</td>\n",
       "      <td>OFFSHORE</td>\n",
       "      <td>OIL</td>\n",
       "      <td>DEVELOPING</td>\n",
       "      <td>INVERSION/WRENCH</td>\n",
       "      <td>3520</td>\n",
       "      <td>NEOGENE</td>\n",
       "      <td>SANDSTONE</td>\n",
       "      <td>2460.0</td>\n",
       "      <td>220.0</td>\n",
       "      <td>20.0</td>\n",
       "      <td>45.0</td>\n",
       "    </tr>\n",
       "    <tr>\n",
       "      <th>1</th>\n",
       "      <td>GRAVITY/EXTENSION/EVAPORITE</td>\n",
       "      <td>OFFSHORE</td>\n",
       "      <td>OIL</td>\n",
       "      <td>MATURE PRODUCTION</td>\n",
       "      <td>SALT/PASSIVE MARGIN</td>\n",
       "      <td>9967</td>\n",
       "      <td>CRETACEOUS</td>\n",
       "      <td>LIMESTONE</td>\n",
       "      <td>427.0</td>\n",
       "      <td>160.0</td>\n",
       "      <td>19.0</td>\n",
       "      <td>175.0</td>\n",
       "    </tr>\n",
       "    <tr>\n",
       "      <th>2</th>\n",
       "      <td>GRAVITY/EXTENSION/EVAPORITE</td>\n",
       "      <td>ONSHORE</td>\n",
       "      <td>OIL</td>\n",
       "      <td>MATURE PRODUCTION</td>\n",
       "      <td>PASSIVE MARGIN</td>\n",
       "      <td>8700</td>\n",
       "      <td>CRETACEOUS</td>\n",
       "      <td>LIMESTONE</td>\n",
       "      <td>95.0</td>\n",
       "      <td>15.0</td>\n",
       "      <td>12.0</td>\n",
       "      <td>20.0</td>\n",
       "    </tr>\n",
       "    <tr>\n",
       "      <th>3</th>\n",
       "      <td>COMPRESSION</td>\n",
       "      <td>ONSHORE</td>\n",
       "      <td>OIL</td>\n",
       "      <td>DECLINING PRODUCTION</td>\n",
       "      <td>THRUST</td>\n",
       "      <td>5084</td>\n",
       "      <td>CRETACEOUS</td>\n",
       "      <td>SANDSTONE</td>\n",
       "      <td>328.0</td>\n",
       "      <td>300.0</td>\n",
       "      <td>13.0</td>\n",
       "      <td>600.0</td>\n",
       "    </tr>\n",
       "    <tr>\n",
       "      <th>4</th>\n",
       "      <td>INVERSION/COMPRESSION/EXTENSION</td>\n",
       "      <td>ONSHORE</td>\n",
       "      <td>OIL</td>\n",
       "      <td>DECLINING PRODUCTION</td>\n",
       "      <td>INVERSION/RIFT</td>\n",
       "      <td>1030</td>\n",
       "      <td>CRETACEOUS</td>\n",
       "      <td>SANDSTONE</td>\n",
       "      <td>260.0</td>\n",
       "      <td>33.0</td>\n",
       "      <td>24.0</td>\n",
       "      <td>182.0</td>\n",
       "    </tr>\n",
       "  </tbody>\n",
       "</table>\n",
       "</div>"
      ],
      "text/plain": [
       "                        Tectonic regime Onshore/Offshore Hydrocarbon type  \\\n",
       "0  STRIKE-SLIP/TRANSPRESSION/BASEMENT-I         OFFSHORE              OIL   \n",
       "1           GRAVITY/EXTENSION/EVAPORITE         OFFSHORE              OIL   \n",
       "2           GRAVITY/EXTENSION/EVAPORITE          ONSHORE              OIL   \n",
       "3                           COMPRESSION          ONSHORE              OIL   \n",
       "4       INVERSION/COMPRESSION/EXTENSION          ONSHORE              OIL   \n",
       "\n",
       "       Reservoir status   Structural setting  Depth      Period  Lithology  \\\n",
       "0            DEVELOPING     INVERSION/WRENCH   3520     NEOGENE  SANDSTONE   \n",
       "1     MATURE PRODUCTION  SALT/PASSIVE MARGIN   9967  CRETACEOUS  LIMESTONE   \n",
       "2     MATURE PRODUCTION       PASSIVE MARGIN   8700  CRETACEOUS  LIMESTONE   \n",
       "3  DECLINING PRODUCTION               THRUST   5084  CRETACEOUS  SANDSTONE   \n",
       "4  DECLINING PRODUCTION       INVERSION/RIFT   1030  CRETACEOUS  SANDSTONE   \n",
       "\n",
       "    Gross  Netpay  Porosity  Permeability  \n",
       "0  2460.0   220.0      20.0          45.0  \n",
       "1   427.0   160.0      19.0         175.0  \n",
       "2    95.0    15.0      12.0          20.0  \n",
       "3   328.0   300.0      13.0         600.0  \n",
       "4   260.0    33.0      24.0         182.0  "
      ]
     },
     "execution_count": 346,
     "metadata": {},
     "output_type": "execute_result"
    }
   ],
   "source": [
    "train.head()"
   ]
  },
  {
   "cell_type": "code",
   "execution_count": 347,
   "metadata": {},
   "outputs": [
    {
     "data": {
      "text/plain": [
       "Index(['Tectonic regime', 'Onshore/Offshore', 'Hydrocarbon type',\n",
       "       'Reservoir status', 'Structural setting', 'Depth', 'Period',\n",
       "       'Lithology', 'Gross', 'Netpay', 'Porosity', 'Permeability'],\n",
       "      dtype='object')"
      ]
     },
     "execution_count": 347,
     "metadata": {},
     "output_type": "execute_result"
    }
   ],
   "source": [
    "train.columns"
   ]
  },
  {
   "cell_type": "code",
   "execution_count": 348,
   "metadata": {},
   "outputs": [
    {
     "data": {
      "text/plain": [
       "Index(['Tectonic regime', 'Hydrocarbon type', 'Reservoir status',\n",
       "       'Structural setting', 'Depth', 'Period', 'Lithology', 'Gross', 'Netpay',\n",
       "       'Porosity', 'Permeability'],\n",
       "      dtype='object')"
      ]
     },
     "execution_count": 348,
     "metadata": {},
     "output_type": "execute_result"
    }
   ],
   "source": [
    "test.columns"
   ]
  },
  {
   "cell_type": "markdown",
   "metadata": {},
   "source": [
    "### Целевой признак"
   ]
  },
  {
   "cell_type": "code",
   "execution_count": 349,
   "metadata": {},
   "outputs": [],
   "source": [
    "y = train['Onshore/Offshore']\n",
    "X = train\n",
    "del X['Onshore/Offshore']"
   ]
  },
  {
   "cell_type": "code",
   "execution_count": 350,
   "metadata": {},
   "outputs": [
    {
     "data": {
      "text/plain": [
       "ONSHORE             211\n",
       "OFFSHORE             93\n",
       "ONSHORE-OFFSHORE      5\n",
       "Name: Onshore/Offshore, dtype: int64"
      ]
     },
     "execution_count": 350,
     "metadata": {},
     "output_type": "execute_result"
    }
   ],
   "source": [
    "y.value_counts()"
   ]
  },
  {
   "cell_type": "code",
   "execution_count": 351,
   "metadata": {},
   "outputs": [
    {
     "data": {
      "text/plain": [
       "Text(0.5, 1.0, 'Onshore/Offshore distribution')"
      ]
     },
     "execution_count": 351,
     "metadata": {},
     "output_type": "execute_result"
    },
    {
     "data": {
      "image/png": "[encoded data removed]",
      "text/plain": [
       "<Figure size 432x288 with 1 Axes>"
      ]
     },
     "metadata": {
      "needs_background": "light"
     },
     "output_type": "display_data"
    }
   ],
   "source": [
    "y.value_counts().plot(kind='bar', label='Onshore/Offshore')\n",
    "plt.legend()\n",
    "plt.title('Onshore/Offshore distribution')"
   ]
  },
  {
   "cell_type": "markdown",
   "metadata": {},
   "source": [
    "### Признаки"
   ]
  },
  {
   "cell_type": "markdown",
   "metadata": {},
   "source": [
    "- Вещественные: Depth, Gross, Netpay, Porosity, Permeability\n",
    "- Категориальные: Tectonic regime, Hydrocarbon type, Reservoir status, Structural setting, Period, Lithology  "
   ]
  },
  {
   "cell_type": "code",
   "execution_count": 352,
   "metadata": {},
   "outputs": [],
   "source": [
    "cat = ['Tectonic regime', 'Hydrocarbon type', 'Reservoir status', \n",
    "              'Structural setting', 'Period', 'Lithology'] \n",
    "real = ['Depth', 'Gross', 'Netpay', 'Porosity', 'Permeability']"
   ]
  },
  {
   "cell_type": "code",
   "execution_count": 353,
   "metadata": {},
   "outputs": [],
   "source": [
    "train_real = X[real]\n",
    "train_cat = X[cat]\n",
    "test_real = test[real]\n",
    "test_cat = test[cat]"
   ]
  },
  {
   "cell_type": "code",
   "execution_count": 31,
   "metadata": {},
   "outputs": [
    {
     "data": {
      "text/plain": [
       "<AxesSubplot:>"
      ]
     },
     "execution_count": 31,
     "metadata": {},
     "output_type": "execute_result"
    },
    {
     "data": {
      "image/png": "[encoded data removed]",
      "text/plain": [
       "<Figure size 432x288 with 1 Axes>"
      ]
     },
     "metadata": {
      "needs_background": "light"
     },
     "output_type": "display_data"
    }
   ],
   "source": [
    "train_cat['Tectonic regime'].value_counts().plot(kind='bar')"
   ]
  },
  {
   "cell_type": "code",
   "execution_count": 32,
   "metadata": {},
   "outputs": [
    {
     "data": {
      "text/plain": [
       "<AxesSubplot:>"
      ]
     },
     "execution_count": 32,
     "metadata": {},
     "output_type": "execute_result"
    },
    {
     "data": {
      "image/png": "[encoded data removed]",
      "text/plain": [
       "<Figure size 432x288 with 1 Axes>"
      ]
     },
     "metadata": {
      "needs_background": "light"
     },
     "output_type": "display_data"
    }
   ],
   "source": [
    "train_cat['Hydrocarbon type'].value_counts().plot(kind='bar')"
   ]
  },
  {
   "cell_type": "code",
   "execution_count": 33,
   "metadata": {},
   "outputs": [
    {
     "data": {
      "text/plain": [
       "<AxesSubplot:>"
      ]
     },
     "execution_count": 33,
     "metadata": {},
     "output_type": "execute_result"
    },
    {
     "data": {
      "image/png": "[encoded data removed]",
      "text/plain": [
       "<Figure size 432x288 with 1 Axes>"
      ]
     },
     "metadata": {
      "needs_background": "light"
     },
     "output_type": "display_data"
    }
   ],
   "source": [
    "train_cat['Reservoir status'].value_counts().plot(kind='bar')"
   ]
  },
  {
   "cell_type": "code",
   "execution_count": 34,
   "metadata": {},
   "outputs": [
    {
     "data": {
      "text/plain": [
       "<AxesSubplot:>"
      ]
     },
     "execution_count": 34,
     "metadata": {},
     "output_type": "execute_result"
    },
    {
     "data": {
      "image/png": "[encoded data removed]",
      "text/plain": [
       "<Figure size 432x288 with 1 Axes>"
      ]
     },
     "metadata": {
      "needs_background": "light"
     },
     "output_type": "display_data"
    }
   ],
   "source": [
    "train_cat['Structural setting'].value_counts().plot(kind='bar')"
   ]
  },
  {
   "cell_type": "code",
   "execution_count": 35,
   "metadata": {},
   "outputs": [
    {
     "data": {
      "text/plain": [
       "<AxesSubplot:>"
      ]
     },
     "execution_count": 35,
     "metadata": {},
     "output_type": "execute_result"
    },
    {
     "data": {
      "image/png": "[encoded data removed]",
      "text/plain": [
       "<Figure size 432x288 with 1 Axes>"
      ]
     },
     "metadata": {
      "needs_background": "light"
     },
     "output_type": "display_data"
    }
   ],
   "source": [
    "train_cat['Period'].value_counts().plot(kind='bar')"
   ]
  },
  {
   "cell_type": "code",
   "execution_count": 36,
   "metadata": {},
   "outputs": [
    {
     "data": {
      "text/plain": [
       "<AxesSubplot:>"
      ]
     },
     "execution_count": 36,
     "metadata": {},
     "output_type": "execute_result"
    },
    {
     "data": {
      "image/png": "[encoded data removed]",
      "text/plain": [
       "<Figure size 432x288 with 1 Axes>"
      ]
     },
     "metadata": {
      "needs_background": "light"
     },
     "output_type": "display_data"
    }
   ],
   "source": [
    "train_cat['Lithology'].value_counts().plot(kind='bar')"
   ]
  },
  {
   "cell_type": "code",
   "execution_count": 99,
   "metadata": {},
   "outputs": [
    {
     "data": {
      "text/plain": [
       "(133,)"
      ]
     },
     "execution_count": 99,
     "metadata": {},
     "output_type": "execute_result"
    }
   ],
   "source": [
    "test_cat['Tectonic regime'].shape"
   ]
  },
  {
   "cell_type": "code",
   "execution_count": 78,
   "metadata": {},
   "outputs": [
    {
     "data": {
      "text/plain": [
       "array(['COMPRESSION', 'INVERSION/COMPRESSION/EXTENSION/EROSION',\n",
       "       'INVERSION/COMPRESSION/EXTENSION/EVAPORITE',\n",
       "       'COMPRESSION/EVAPORITE/EXTENSION/LINKED', 'COMPRESSION/EROSION',\n",
       "       'EXTENSION', 'INVERSION/COMPRESSION/EXTENSION',\n",
       "       'GRAVITY/EXTENSION/EVAPORITE',\n",
       "       'COMPRESSION/EROSION/EXTENSION/LINKED', 'COMPRESSION/EVAPORITE',\n",
       "       'EXTENSION/EVAPORITE/EROSION/GRAVITY',\n",
       "       'COMPRESSION/GRAVITY/EVAPORITE/EXTENSION/LINKED',\n",
       "       'GRAVITY/EVAPORITE/COMPRESSION', 'COMPRESSION/SHALE',\n",
       "       'EXTENSION/EROSION',\n",
       "       'GRAVITY/EXTENSION/EVAPORITE/DIAPIR/SYNSEDIMENTATION',\n",
       "       'EXTENSION/EVAPORITE/INVERSION',\n",
       "       'INVERSION/STRIKE-SLIP/TRANSPRESSION/EXTENSION/BASEMENT-I',\n",
       "       'GRAVITY/EXTENSION/SHALE', 'STRIKE-SLIP/TRANSTENSION/BASEMENT-I',\n",
       "       'EXTENSION/TRANSTENSION',\n",
       "       'COMPRESSION/STRIKE-SLIP/TRANSPRESSION/BASEMENT-I',\n",
       "       'COMPRESSION/EXTENSION', 'STRIKE-SLIP/TRANSPRESSION',\n",
       "       'STRIKE-SLIP/TRANSPRESSION/BASEMENT-I',\n",
       "       'INVERSION/COMPRESSION/EXTENSION/SHALE',\n",
       "       'STRIKE-SLIP/TRANSTENSION/GRAVITY/SHALE/EXTENSION/SYNSEDIMENTATION/BASEMENT-I',\n",
       "       'GRAVITY/EXTENSION/SHALE/SYNSEDIMENTATION',\n",
       "       'INVERSION/COMPRESSION/EVAPORITE/EROSION',\n",
       "       'GRAVITY/EXTENSION/EVAPORITE/SYNSEDIMENTATION',\n",
       "       'EXTENSION/EVAPORITE'], dtype=object)"
      ]
     },
     "execution_count": 78,
     "metadata": {},
     "output_type": "execute_result"
    }
   ],
   "source": [
    "test_cat['Tectonic regime'].unique()"
   ]
  },
  {
   "cell_type": "code",
   "execution_count": 133,
   "metadata": {},
   "outputs": [],
   "source": [
    "# признаки которые надо разделять\n",
    "cat_multi = [('Tectonic regime', '/'), ('Structural setting', '/'), ('Period', '-')]\n",
    "# признаки в которых надо заменить значение\n",
    "cat_single = [('Hydrocarbon type', 'BITUMEN'), ('Reservoir status', 'TEMPORARILY SHUT-IN'),\n",
    "              ('Lithology', 'GLAUCONITIC SANDSTONE')]"
   ]
  },
  {
   "cell_type": "code",
   "execution_count": 97,
   "metadata": {},
   "outputs": [
    {
     "name": "stdout",
     "output_type": "stream",
     "text": [
      "Tectonic regime\n",
      "                                                       0\n",
      "True                                         COMPRESSION\n",
      "True             INVERSION/COMPRESSION/EXTENSION/EROSION\n",
      "True           INVERSION/COMPRESSION/EXTENSION/EVAPORITE\n",
      "True              COMPRESSION/EVAPORITE/EXTENSION/LINKED\n",
      "True                                 COMPRESSION/EROSION\n",
      "True                                           EXTENSION\n",
      "True                     INVERSION/COMPRESSION/EXTENSION\n",
      "True                         GRAVITY/EXTENSION/EVAPORITE\n",
      "True                COMPRESSION/EROSION/EXTENSION/LINKED\n",
      "True                               COMPRESSION/EVAPORITE\n",
      "True                 EXTENSION/EVAPORITE/EROSION/GRAVITY\n",
      "True      COMPRESSION/GRAVITY/EVAPORITE/EXTENSION/LINKED\n",
      "True                       GRAVITY/EVAPORITE/COMPRESSION\n",
      "True                                   COMPRESSION/SHALE\n",
      "True                                   EXTENSION/EROSION\n",
      "True   GRAVITY/EXTENSION/EVAPORITE/DIAPIR/SYNSEDIMENT...\n",
      "True                       EXTENSION/EVAPORITE/INVERSION\n",
      "True   INVERSION/STRIKE-SLIP/TRANSPRESSION/EXTENSION/...\n",
      "True                             GRAVITY/EXTENSION/SHALE\n",
      "False                STRIKE-SLIP/TRANSTENSION/BASEMENT-I\n",
      "False                             EXTENSION/TRANSTENSION\n",
      "True    COMPRESSION/STRIKE-SLIP/TRANSPRESSION/BASEMENT-I\n",
      "False                              COMPRESSION/EXTENSION\n",
      "True                           STRIKE-SLIP/TRANSPRESSION\n",
      "True                STRIKE-SLIP/TRANSPRESSION/BASEMENT-I\n",
      "True               INVERSION/COMPRESSION/EXTENSION/SHALE\n",
      "False  STRIKE-SLIP/TRANSTENSION/GRAVITY/SHALE/EXTENSI...\n",
      "True            GRAVITY/EXTENSION/SHALE/SYNSEDIMENTATION\n",
      "False            INVERSION/COMPRESSION/EVAPORITE/EROSION\n",
      "True        GRAVITY/EXTENSION/EVAPORITE/SYNSEDIMENTATION\n",
      "True                                 EXTENSION/EVAPORITE\n",
      "Hydrocarbon type\n",
      "                    0\n",
      "True              GAS\n",
      "True              OIL\n",
      "True   GAS-CONDENSATE\n",
      "True   CARBON DIOXIDE\n",
      "False         BITUMEN\n",
      "Reservoir status\n",
      "                              0\n",
      "True          MATURE PRODUCTION\n",
      "True                  ABANDONED\n",
      "True       DECLINING PRODUCTION\n",
      "True                 DEVELOPING\n",
      "True   SECOND PLATEAU PRODUTION\n",
      "True            NEARLY DEPLETED\n",
      "False       TEMPORARILY SHUT-IN\n",
      "True         PLATEAU PRODUCTION\n",
      "True                UNDEVELOPED\n",
      "True               REJUVENATING\n",
      "True                    UNKNOWN\n",
      "True     CONTINUING DEVELOPMENT\n",
      "Structural setting\n",
      "                               0\n",
      "True                    FORELAND\n",
      "True              INVERSION/RIFT\n",
      "True                      THRUST\n",
      "True                        RIFT\n",
      "True               INTRACRATONIC\n",
      "True         SALT/PASSIVE MARGIN\n",
      "True               FORELAND/SALT\n",
      "True                   RIFT/SALT\n",
      "True               SALT/FORELAND\n",
      "True              PASSIVE MARGIN\n",
      "True         SUB-THRUST/FORELAND\n",
      "True           SUB-SALT/FORELAND\n",
      "True               SUB-SALT/RIFT\n",
      "True           INVERSION/BACKARC\n",
      "True        DELTA/PASSIVE MARGIN\n",
      "True          INVERSION/FORELAND\n",
      "True                      WRENCH\n",
      "False        PASSIVE MARGIN/RIFT\n",
      "False      WRENCH/PASSIVE MARGIN\n",
      "True         RIFT/PASSIVE MARGIN\n",
      "False             WRENCH/FOREARC\n",
      "True             THRUST/FORELAND\n",
      "True            INVERSION/WRENCH\n",
      "False              FORELAND/RIFT\n",
      "False             WRENCH/BACKARC\n",
      "True   DELTA/SALT/PASSIVE MARGIN\n",
      "True                  SUB-THRUST\n",
      "True                     BACKARC\n",
      "True         SALT/INVERSION/RIFT\n",
      "True              RIFT/INVERSION\n",
      "Period\n",
      "                                       0\n",
      "True                             PERMIAN\n",
      "True                            JURASSIC\n",
      "True                             NEOGENE\n",
      "True                       CARBONIFEROUS\n",
      "True                          CRETACEOUS\n",
      "True                           PALEOGENE\n",
      "True                            TRIASSIC\n",
      "False             DEVONIAN-CARBONIFEROUS\n",
      "True                            DEVONIAN\n",
      "False               PALEOZOIC-CRETACEOUS\n",
      "True               CARBONIFEROUS-PERMIAN\n",
      "False                           SILURIAN\n",
      "True                 CAMBRIAN-ORDOVICIAN\n",
      "True                          ORDOVICIAN\n",
      "True                         PROTEROZOIC\n",
      "False                   DEVONIAN-PERMIAN\n",
      "False  CAMBRIAN-ORDOVICIAN/CARBONIFEROUS\n",
      "True                CRETACEOUS-PALEOGENE\n",
      "True                   PALEOGENE-NEOGENE\n",
      "False                   PERMIAN-TRIASSIC\n",
      "True                   TRIASSIC-JURASSIC\n",
      "Lithology\n",
      "                               0\n",
      "True                   SANDSTONE\n",
      "True                    DOLOMITE\n",
      "True                   SILTSTONE\n",
      "True            CHALKY LIMESTONE\n",
      "True                   LIMESTONE\n",
      "True   LOW-RESISTIVITY SANDSTONE\n",
      "False      GLAUCONITIC SANDSTONE\n",
      "True             SHALY SANDSTONE\n",
      "True         DOLOMITIC LIMESTONE\n",
      "True     THINLY-BEDDED SANDSTONE\n",
      "True                       CHALK\n"
     ]
    }
   ],
   "source": [
    "for feature in cat:\n",
    "    print(feature)\n",
    "    print(pd.DataFrame(test_cat[feature].unique(), \n",
    "                       np.isin(test_cat[feature].unique(),\n",
    "                               train_cat[feature].unique())))"
   ]
  },
  {
   "cell_type": "code",
   "execution_count": 216,
   "metadata": {},
   "outputs": [
    {
     "name": "stdout",
     "output_type": "stream",
     "text": [
      "Tectonic regime\n",
      "                                                       0\n",
      "True                STRIKE-SLIP/TRANSPRESSION/BASEMENT-I\n",
      "True                         GRAVITY/EXTENSION/EVAPORITE\n",
      "True                                         COMPRESSION\n",
      "True                     INVERSION/COMPRESSION/EXTENSION\n",
      "False                    COMPRESSION/EXTENSION/EVAPORITE\n",
      "True                                 COMPRESSION/EROSION\n",
      "True              COMPRESSION/EVAPORITE/EXTENSION/LINKED\n",
      "True                                   EXTENSION/EROSION\n",
      "True   GRAVITY/EXTENSION/EVAPORITE/DIAPIR/SYNSEDIMENT...\n",
      "True                               COMPRESSION/EVAPORITE\n",
      "True                                           EXTENSION\n",
      "False                        GRAVITY/EVAPORITE/EXTENSION\n",
      "True        GRAVITY/EXTENSION/EVAPORITE/SYNSEDIMENTATION\n",
      "False    COMPRESSION/EROSION/GRAVITY/EVAPORITE/EXTENSION\n",
      "False                                EXTENSION/INVERSION\n",
      "False           GRAVITY/SHALE/EXTENSION/SYNSEDIMENTATION\n",
      "False                      COMPRESSION/EVAPORITE/GRAVITY\n",
      "True                                 EXTENSION/EVAPORITE\n",
      "False                      COMPRESSION/EXTENSION/EROSION\n",
      "False                             STRIKE-SLIP/BASEMENT-I\n",
      "True                           STRIKE-SLIP/TRANSPRESSION\n",
      "False                        EXTENSION/EVAPORITE/GRAVITY\n",
      "True                       GRAVITY/EVAPORITE/COMPRESSION\n",
      "False  INVERSION/COMPRESSION/EXTENSION/EVAPORITE/GRAVITY\n",
      "True                COMPRESSION/EROSION/EXTENSION/LINKED\n",
      "True           INVERSION/COMPRESSION/EXTENSION/EVAPORITE\n",
      "True      COMPRESSION/GRAVITY/EVAPORITE/EXTENSION/LINKED\n",
      "True   INVERSION/STRIKE-SLIP/TRANSPRESSION/EXTENSION/...\n",
      "False                            GRAVITY/SHALE/EXTENSION\n",
      "True                 EXTENSION/EVAPORITE/EROSION/GRAVITY\n",
      "True             INVERSION/COMPRESSION/EXTENSION/EROSION\n",
      "False            GRAVITY/EVAPORITE/COMPRESSION/EXTENSION\n",
      "True    COMPRESSION/STRIKE-SLIP/TRANSPRESSION/BASEMENT-I\n",
      "False  STRIKE-SLIP/TRANSTENSION/SHALE/EVAPORITE/BASEM...\n",
      "True                             GRAVITY/EXTENSION/SHALE\n",
      "False                              EXTENSION/COMPRESSION\n",
      "False          EVAPORITE/INVERSION/COMPRESSION/EXTENSION\n",
      "False                    INVERSION/EXTENSION/COMPRESSION\n",
      "False         GRAVITY/COMPRESSION/SHALE/EXTENSION/LINKED\n",
      "False          COMPRESSION/SHALE/REACTIVATION/BASEMENT-I\n",
      "True                                   COMPRESSION/SHALE\n",
      "False            COMPRESSION/EXTENSION/EROSION/EVAPORITE\n",
      "False                               TRANSPRESSION/UPLIFT\n",
      "False                      COMPRESSION/EROSION/EXTENSION\n",
      "False                       COMPRESSION/EXTENSION/LINKED\n",
      "False                EXTENSION/EROSION/GRAVITY/EVAPORITE\n",
      "False  COMPRESSION/STRIKE-SLIP/TRANSPRESSION/SHALE/BA...\n",
      "True               INVERSION/COMPRESSION/EXTENSION/SHALE\n",
      "False                TRANSTENSION/EXTENSION/SHALE/LINKED\n",
      "False        STRIKE-SLIP/INVERSION/COMPRESSION/EXTENSION\n",
      "False                 COMPRESSION/STRIKE-SLIP/BASEMENT-I\n",
      "False               COMPRESSION/EXTENSION/LINKED/EROSION\n",
      "True            GRAVITY/EXTENSION/SHALE/SYNSEDIMENTATION\n",
      "True                       EXTENSION/EVAPORITE/INVERSION\n",
      "False                 GRAVITY/EXTENSION/EVAPORITE/DIAPIR\n",
      "False                                  UPLIFT/BASEMENT-I\n",
      "Hydrocarbon type\n",
      "                     0\n",
      "True               OIL\n",
      "False  METHANE HYDRATE\n",
      "True               GAS\n",
      "True    GAS-CONDENSATE\n",
      "True    CARBON DIOXIDE\n",
      "Reservoir status\n",
      "                              0\n",
      "True                 DEVELOPING\n",
      "True          MATURE PRODUCTION\n",
      "True       DECLINING PRODUCTION\n",
      "True               REJUVENATING\n",
      "True                  ABANDONED\n",
      "True            NEARLY DEPLETED\n",
      "True                    UNKNOWN\n",
      "True         PLATEAU PRODUCTION\n",
      "True                UNDEVELOPED\n",
      "True     CONTINUING DEVELOPMENT\n",
      "True   SECOND PLATEAU PRODUTION\n",
      "False                  DEPLETED\n",
      "Structural setting\n",
      "                                   0\n",
      "True                INVERSION/WRENCH\n",
      "True             SALT/PASSIVE MARGIN\n",
      "True                  PASSIVE MARGIN\n",
      "True                          THRUST\n",
      "True                  INVERSION/RIFT\n",
      "True                   INTRACRATONIC\n",
      "True                            RIFT\n",
      "True                        FORELAND\n",
      "True       DELTA/SALT/PASSIVE MARGIN\n",
      "True                      SUB-THRUST\n",
      "False                      SALT/RIFT\n",
      "True               SUB-SALT/FORELAND\n",
      "True                   SALT/FORELAND\n",
      "False                   DELTA/WRENCH\n",
      "True              INVERSION/FORELAND\n",
      "False                WRENCH/FORELAND\n",
      "False             SUB-SALT/INVERSION\n",
      "True             SALT/INVERSION/RIFT\n",
      "True               INVERSION/BACKARC\n",
      "False            INVERSION/SALT/RIFT\n",
      "True                       RIFT/SALT\n",
      "False                 DELTA/FORELAND\n",
      "False        FORELAND/PASSIVE MARGIN\n",
      "False         INTRACRATONIC/SUB-SALT\n",
      "False        SALT/INVERSION/FORELAND\n",
      "False                DELTA//FORELAND\n",
      "False                  THRUST/WRENCH\n",
      "False                       SUB-SALT\n",
      "False                   WRENCH/DELTA\n",
      "True             SUB-THRUST/FORELAND\n",
      "True            DELTA/PASSIVE MARGIN\n",
      "True                         BACKARC\n",
      "False                  WRENCH/THRUST\n",
      "False                FORELAND/THRUST\n",
      "False     THRUST/SUB-THRUST/FORELAND\n",
      "False                    WRENCH/RIFT\n",
      "True                   SUB-SALT/RIFT\n",
      "False        SUB-SALT/PASSIVE MARGIN\n",
      "True                          WRENCH\n",
      "True                   FORELAND/SALT\n",
      "True                 THRUST/FORELAND\n",
      "False          THRUST/PASSIVE MARGIN\n",
      "False       WRENCH/INVERSION/BACKARC\n",
      "True                  RIFT/INVERSION\n",
      "False                FORELAND/WRENCH\n",
      "True             RIFT/PASSIVE MARGIN\n",
      "False              INVERSION/FOREARC\n",
      "False  DELTA/SUB-SALT/PASSIVE MARGIN\n",
      "Period\n",
      "                              0\n",
      "True                    NEOGENE\n",
      "True                 CRETACEOUS\n",
      "True              CARBONIFEROUS\n",
      "True                PROTEROZOIC\n",
      "True                    PERMIAN\n",
      "True          PALEOGENE-NEOGENE\n",
      "True                   DEVONIAN\n",
      "True                   JURASSIC\n",
      "True                  PALEOGENE\n",
      "True      CARBONIFEROUS-PERMIAN\n",
      "True       CRETACEOUS-PALEOGENE\n",
      "True                 ORDOVICIAN\n",
      "True                   TRIASSIC\n",
      "False      PROTEROZOIC-CAMBRIAN\n",
      "True          TRIASSIC-JURASSIC\n",
      "False       JURASSIC-CRETACEOUS\n",
      "False  CARBONIFEROUS-CRETACEOUS\n",
      "False                   ARCHEAN\n",
      "False                  CAMBRIAN\n",
      "False                  MESOZOIC\n",
      "True        CAMBRIAN-ORDOVICIAN\n",
      "False                 PALEOZOIC\n",
      "Lithology\n",
      "                               0\n",
      "True                   SANDSTONE\n",
      "True                   LIMESTONE\n",
      "True                    DOLOMITE\n",
      "True     THINLY-BEDDED SANDSTONE\n",
      "True            CHALKY LIMESTONE\n",
      "True   LOW-RESISTIVITY SANDSTONE\n",
      "False                      CHERT\n",
      "False                      SHALE\n",
      "False               CONGLOMERATE\n",
      "True             SHALY SANDSTONE\n",
      "True                       CHALK\n",
      "True                   SILTSTONE\n",
      "True         DOLOMITIC LIMESTONE\n",
      "False                  DIATOMITE\n",
      "False                   BASEMENT\n",
      "False                  VOLCANICS\n"
     ]
    }
   ],
   "source": [
    "for feature in cat:\n",
    "    print(feature)\n",
    "    print(pd.DataFrame(train_cat[feature].unique(), \n",
    "                       np.isin(train_cat[feature].unique(),\n",
    "                               test_cat[feature].unique())))"
   ]
  },
  {
   "cell_type": "code",
   "execution_count": 66,
   "metadata": {},
   "outputs": [
    {
     "name": "stdout",
     "output_type": "stream",
     "text": [
      "Tectonic regime train: \n",
      "COMPRESSION                                                 58\n",
      "EXTENSION                                                   32\n",
      "COMPRESSION/EROSION                                         27\n",
      "INVERSION/COMPRESSION/EXTENSION                             25\n",
      "COMPRESSION/EVAPORITE                                       23\n",
      "GRAVITY/EXTENSION/EVAPORITE/SYNSEDIMENTATION                12\n",
      "EXTENSION/EROSION                                           11\n",
      "GRAVITY/EXTENSION/EVAPORITE                                  9\n",
      "INVERSION/COMPRESSION/EXTENSION/EVAPORITE                    7\n",
      "STRIKE-SLIP/TRANSPRESSION/BASEMENT-I                         7\n",
      "INVERSION/COMPRESSION/EXTENSION/EROSION                      6\n",
      "COMPRESSION/EVAPORITE/EXTENSION/LINKED                       5\n",
      "COMPRESSION/EXTENSION/LINKED                                 5\n",
      "INVERSION/COMPRESSION/EXTENSION/EVAPORITE/GRAVITY            5\n",
      "GRAVITY/EVAPORITE/COMPRESSION                                5\n",
      "GRAVITY/EXTENSION/EVAPORITE/DIAPIR/SYNSEDIMENTATION          4\n",
      "GRAVITY/EVAPORITE/EXTENSION                                  4\n",
      "INVERSION/STRIKE-SLIP/TRANSPRESSION/EXTENSION/BASEMENT-I     4\n",
      "EXTENSION/EVAPORITE/GRAVITY                                  3\n",
      "EXTENSION/EVAPORITE                                          3\n",
      "GRAVITY/SHALE/EXTENSION/SYNSEDIMENTATION                     3\n",
      "COMPRESSION/STRIKE-SLIP/TRANSPRESSION/BASEMENT-I             3\n",
      "COMPRESSION/GRAVITY/EVAPORITE/EXTENSION/LINKED               3\n",
      "COMPRESSION/EXTENSION/EVAPORITE                              3\n",
      "STRIKE-SLIP/TRANSTENSION/SHALE/EVAPORITE/BASEMENT-I          3\n",
      "GRAVITY/EXTENSION/SHALE/SYNSEDIMENTATION                     2\n",
      "GRAVITY/EXTENSION/SHALE                                      2\n",
      "INVERSION/COMPRESSION/EXTENSION/SHALE                        2\n",
      "EXTENSION/INVERSION                                          2\n",
      "COMPRESSION/EROSION/GRAVITY/EVAPORITE/EXTENSION              2\n",
      "TRANSPRESSION/UPLIFT                                         2\n",
      "COMPRESSION/SHALE                                            2\n",
      "STRIKE-SLIP/BASEMENT-I                                       2\n",
      "COMPRESSION/STRIKE-SLIP/TRANSPRESSION/SHALE/BASEMENT-I       1\n",
      "INVERSION/EXTENSION/COMPRESSION                              1\n",
      "COMPRESSION/SHALE/REACTIVATION/BASEMENT-I                    1\n",
      "EXTENSION/COMPRESSION                                        1\n",
      "STRIKE-SLIP/TRANSPRESSION                                    1\n",
      "UPLIFT/BASEMENT-I                                            1\n",
      "COMPRESSION/EROSION/EXTENSION/LINKED                         1\n",
      "STRIKE-SLIP/INVERSION/COMPRESSION/EXTENSION                  1\n",
      "COMPRESSION/EXTENSION/EROSION                                1\n",
      "GRAVITY/SHALE/EXTENSION                                      1\n",
      "EXTENSION/EROSION/GRAVITY/EVAPORITE                          1\n",
      "EXTENSION/EVAPORITE/INVERSION                                1\n",
      "TRANSTENSION/EXTENSION/SHALE/LINKED                          1\n",
      "COMPRESSION/EXTENSION/EROSION/EVAPORITE                      1\n",
      "GRAVITY/EVAPORITE/COMPRESSION/EXTENSION                      1\n",
      "COMPRESSION/EROSION/EXTENSION                                1\n",
      "GRAVITY/EXTENSION/EVAPORITE/DIAPIR                           1\n",
      "COMPRESSION/EVAPORITE/GRAVITY                                1\n",
      "COMPRESSION/EXTENSION/LINKED/EROSION                         1\n",
      "EVAPORITE/INVERSION/COMPRESSION/EXTENSION                    1\n",
      "COMPRESSION/STRIKE-SLIP/BASEMENT-I                           1\n",
      "EXTENSION/EVAPORITE/EROSION/GRAVITY                          1\n",
      "GRAVITY/COMPRESSION/SHALE/EXTENSION/LINKED                   1\n",
      "Name: Tectonic regime, dtype: int64\n",
      "Tectonic regime test: \n",
      "COMPRESSION                                                                     38\n",
      "COMPRESSION/EROSION                                                             13\n",
      "EXTENSION                                                                       12\n",
      "COMPRESSION/EVAPORITE                                                           12\n",
      "INVERSION/COMPRESSION/EXTENSION                                                  7\n",
      "EXTENSION/EROSION                                                                6\n",
      "INVERSION/COMPRESSION/EXTENSION/EROSION                                          4\n",
      "INVERSION/STRIKE-SLIP/TRANSPRESSION/EXTENSION/BASEMENT-I                         4\n",
      "GRAVITY/EVAPORITE/COMPRESSION                                                    3\n",
      "GRAVITY/EXTENSION/EVAPORITE                                                      3\n",
      "COMPRESSION/EVAPORITE/EXTENSION/LINKED                                           3\n",
      "GRAVITY/EXTENSION/EVAPORITE/SYNSEDIMENTATION                                     2\n",
      "STRIKE-SLIP/TRANSPRESSION                                                        2\n",
      "EXTENSION/EVAPORITE/EROSION/GRAVITY                                              2\n",
      "COMPRESSION/STRIKE-SLIP/TRANSPRESSION/BASEMENT-I                                 2\n",
      "INVERSION/COMPRESSION/EXTENSION/SHALE                                            2\n",
      "COMPRESSION/EROSION/EXTENSION/LINKED                                             2\n",
      "INVERSION/COMPRESSION/EXTENSION/EVAPORITE                                        2\n",
      "COMPRESSION/SHALE                                                                2\n",
      "COMPRESSION/GRAVITY/EVAPORITE/EXTENSION/LINKED                                   1\n",
      "GRAVITY/EXTENSION/SHALE                                                          1\n",
      "COMPRESSION/EXTENSION                                                            1\n",
      "EXTENSION/TRANSTENSION                                                           1\n",
      "STRIKE-SLIP/TRANSTENSION/GRAVITY/SHALE/EXTENSION/SYNSEDIMENTATION/BASEMENT-I     1\n",
      "STRIKE-SLIP/TRANSTENSION/BASEMENT-I                                              1\n",
      "GRAVITY/EXTENSION/SHALE/SYNSEDIMENTATION                                         1\n",
      "EXTENSION/EVAPORITE                                                              1\n",
      "GRAVITY/EXTENSION/EVAPORITE/DIAPIR/SYNSEDIMENTATION                              1\n",
      "EXTENSION/EVAPORITE/INVERSION                                                    1\n",
      "INVERSION/COMPRESSION/EVAPORITE/EROSION                                          1\n",
      "STRIKE-SLIP/TRANSPRESSION/BASEMENT-I                                             1\n",
      "Name: Tectonic regime, dtype: int64\n",
      " \n",
      "Hydrocarbon type train: \n",
      "OIL                235\n",
      "GAS                 47\n",
      "GAS-CONDENSATE      25\n",
      "CARBON DIOXIDE       1\n",
      "METHANE HYDRATE      1\n",
      "Name: Hydrocarbon type, dtype: int64\n",
      "Hydrocarbon type test: \n",
      "OIL               97\n",
      "GAS               21\n",
      "GAS-CONDENSATE    13\n",
      "BITUMEN            1\n",
      "CARBON DIOXIDE     1\n",
      "Name: Hydrocarbon type, dtype: int64\n",
      " \n",
      "Reservoir status train: \n",
      "DECLINING PRODUCTION        93\n",
      "MATURE PRODUCTION           55\n",
      "NEARLY DEPLETED             52\n",
      "PLATEAU PRODUCTION          32\n",
      "DEVELOPING                  21\n",
      "REJUVENATING                21\n",
      "UNKNOWN                     12\n",
      "UNDEVELOPED                  7\n",
      "CONTINUING DEVELOPMENT       6\n",
      "SECOND PLATEAU PRODUTION     5\n",
      "ABANDONED                    4\n",
      "DEPLETED                     1\n",
      "Name: Reservoir status, dtype: int64\n",
      "Reservoir status test: \n",
      "DECLINING PRODUCTION        38\n",
      "MATURE PRODUCTION           31\n",
      "NEARLY DEPLETED             30\n",
      "DEVELOPING                   7\n",
      "PLATEAU PRODUCTION           7\n",
      "REJUVENATING                 6\n",
      "UNDEVELOPED                  4\n",
      "SECOND PLATEAU PRODUTION     3\n",
      "TEMPORARILY SHUT-IN          3\n",
      "ABANDONED                    2\n",
      "CONTINUING DEVELOPMENT       1\n",
      "UNKNOWN                      1\n",
      "Name: Reservoir status, dtype: int64\n",
      " \n",
      "Structural setting train: \n",
      "FORELAND                         71\n",
      "RIFT                             48\n",
      "INTRACRATONIC                    28\n",
      "PASSIVE MARGIN                   16\n",
      "INVERSION/RIFT                   15\n",
      "THRUST                           14\n",
      "SALT/FORELAND                    13\n",
      "SALT/PASSIVE MARGIN              11\n",
      "DELTA/PASSIVE MARGIN              6\n",
      "INVERSION/BACKARC                 5\n",
      "SALT/INVERSION/RIFT               5\n",
      "DELTA/SALT/PASSIVE MARGIN         5\n",
      "BACKARC                           4\n",
      "THRUST/FORELAND                   4\n",
      "SUB-SALT/INVERSION                4\n",
      "SALT/RIFT                         4\n",
      "INVERSION/FORELAND                3\n",
      "RIFT/PASSIVE MARGIN               3\n",
      "WRENCH/DELTA                      3\n",
      "WRENCH                            3\n",
      "SUB-SALT/FORELAND                 3\n",
      "WRENCH/FORELAND                   3\n",
      "SUB-SALT/RIFT                     3\n",
      "SUB-THRUST/FORELAND               2\n",
      "RIFT/SALT                         2\n",
      "THRUST/WRENCH                     2\n",
      "SUB-SALT                          2\n",
      "INVERSION/WRENCH                  2\n",
      "FORELAND/SALT                     2\n",
      "THRUST/SUB-THRUST/FORELAND        2\n",
      "FORELAND/THRUST                   2\n",
      "SUB-THRUST                        2\n",
      "WRENCH/RIFT                       2\n",
      "DELTA/SUB-SALT/PASSIVE MARGIN     1\n",
      "FORELAND/PASSIVE MARGIN           1\n",
      "THRUST/PASSIVE MARGIN             1\n",
      "DELTA/WRENCH                      1\n",
      "INTRACRATONIC/SUB-SALT            1\n",
      "FORELAND/WRENCH                   1\n",
      "DELTA//FORELAND                   1\n",
      "DELTA/FORELAND                    1\n",
      "INVERSION/FOREARC                 1\n",
      "SUB-SALT/PASSIVE MARGIN           1\n",
      "WRENCH/THRUST                     1\n",
      "INVERSION/SALT/RIFT               1\n",
      "RIFT/INVERSION                    1\n",
      "WRENCH/INVERSION/BACKARC          1\n",
      "SALT/INVERSION/FORELAND           1\n",
      "Name: Structural setting, dtype: int64\n",
      "Structural setting test: \n",
      "FORELAND                     40\n",
      "RIFT                         18\n",
      "INTRACRATONIC                15\n",
      "THRUST                        7\n",
      "SALT/FORELAND                 6\n",
      "INVERSION/BACKARC             5\n",
      "SALT/PASSIVE MARGIN           4\n",
      "FORELAND/SALT                 4\n",
      "INVERSION/RIFT                3\n",
      "SUB-THRUST/FORELAND           3\n",
      "RIFT/INVERSION                2\n",
      "WRENCH/FOREARC                2\n",
      "DELTA/PASSIVE MARGIN          2\n",
      "SUB-SALT/RIFT                 2\n",
      "PASSIVE MARGIN                2\n",
      "RIFT/SALT                     2\n",
      "SUB-SALT/FORELAND             2\n",
      "DELTA/SALT/PASSIVE MARGIN     2\n",
      "INVERSION/WRENCH              1\n",
      "WRENCH/PASSIVE MARGIN         1\n",
      "SALT/INVERSION/RIFT           1\n",
      "WRENCH/BACKARC                1\n",
      "THRUST/FORELAND               1\n",
      "SUB-THRUST                    1\n",
      "INVERSION/FORELAND            1\n",
      "FORELAND/RIFT                 1\n",
      "PASSIVE MARGIN/RIFT           1\n",
      "RIFT/PASSIVE MARGIN           1\n",
      "WRENCH                        1\n",
      "BACKARC                       1\n",
      "Name: Structural setting, dtype: int64\n",
      " \n",
      "Period train: \n",
      "CRETACEOUS                  83\n",
      "NEOGENE                     45\n",
      "JURASSIC                    41\n",
      "PALEOGENE                   34\n",
      "CARBONIFEROUS               25\n",
      "PERMIAN                     22\n",
      "DEVONIAN                    16\n",
      "TRIASSIC                    10\n",
      "CRETACEOUS-PALEOGENE         8\n",
      "PROTEROZOIC                  5\n",
      "CARBONIFEROUS-PERMIAN        4\n",
      "PALEOGENE-NEOGENE            3\n",
      "TRIASSIC-JURASSIC            2\n",
      "JURASSIC-CRETACEOUS          2\n",
      "ORDOVICIAN                   2\n",
      "CAMBRIAN                     1\n",
      "CARBONIFEROUS-CRETACEOUS     1\n",
      "PROTEROZOIC-CAMBRIAN         1\n",
      "CAMBRIAN-ORDOVICIAN          1\n",
      "MESOZOIC                     1\n",
      "ARCHEAN                      1\n",
      "PALEOZOIC                    1\n",
      "Name: Period, dtype: int64\n",
      "Period test: \n",
      "CRETACEOUS                           30\n",
      "NEOGENE                              18\n",
      "JURASSIC                             17\n",
      "CARBONIFEROUS                        15\n",
      "PERMIAN                              14\n",
      "PALEOGENE                            14\n",
      "DEVONIAN                              6\n",
      "SILURIAN                              3\n",
      "ORDOVICIAN                            2\n",
      "CARBONIFEROUS-PERMIAN                 2\n",
      "TRIASSIC                              2\n",
      "CAMBRIAN-ORDOVICIAN/CARBONIFEROUS     1\n",
      "DEVONIAN-CARBONIFEROUS                1\n",
      "CAMBRIAN-ORDOVICIAN                   1\n",
      "TRIASSIC-JURASSIC                     1\n",
      "DEVONIAN-PERMIAN                      1\n",
      "PALEOGENE-NEOGENE                     1\n",
      "CRETACEOUS-PALEOGENE                  1\n",
      "PERMIAN-TRIASSIC                      1\n",
      "PALEOZOIC-CRETACEOUS                  1\n",
      "PROTEROZOIC                           1\n",
      "Name: Period, dtype: int64\n",
      " \n",
      "Lithology train: \n",
      "SANDSTONE                    180\n",
      "LIMESTONE                     42\n",
      "DOLOMITE                      38\n",
      "LOW-RESISTIVITY SANDSTONE      9\n",
      "CONGLOMERATE                   7\n",
      "CHALK                          7\n",
      "CHALKY LIMESTONE               6\n",
      "THINLY-BEDDED SANDSTONE        6\n",
      "SHALY SANDSTONE                3\n",
      "SILTSTONE                      3\n",
      "VOLCANICS                      2\n",
      "DOLOMITIC LIMESTONE            2\n",
      "BASEMENT                       1\n",
      "DIATOMITE                      1\n",
      "SHALE                          1\n",
      "CHERT                          1\n",
      "Name: Lithology, dtype: int64\n",
      "Lithology test: \n",
      "SANDSTONE                    68\n",
      "DOLOMITE                     26\n",
      "LIMESTONE                    21\n",
      "SHALY SANDSTONE               4\n",
      "CHALKY LIMESTONE              3\n",
      "THINLY-BEDDED SANDSTONE       3\n",
      "SILTSTONE                     2\n",
      "LOW-RESISTIVITY SANDSTONE     2\n",
      "DOLOMITIC LIMESTONE           2\n",
      "GLAUCONITIC SANDSTONE         1\n",
      "CHALK                         1\n",
      "Name: Lithology, dtype: int64\n",
      " \n"
     ]
    }
   ],
   "source": [
    "for feature in cat:\n",
    "    print('{} train: '.format(feature))\n",
    "    print(train_cat[feature].value_counts())\n",
    "    print('{} test: '.format(feature))\n",
    "    print(test_cat[feature].value_counts())\n",
    "    print(' ')"
   ]
  },
  {
   "cell_type": "code",
   "execution_count": 126,
   "metadata": {},
   "outputs": [],
   "source": [
    "# ф-ция для разбиения категориальных признаков\n",
    "\n",
    "def partition_encoder(data, feature):\n",
    "    n = data[feature].shape[0]\n",
    "    arr_val = data[feature].unique()\n",
    "    set_cat = set()\n",
    "    \n",
    "    for val in arr_val:\n",
    "        val = list(val.split('/'))\n",
    "        for st in val:\n",
    "            set_cat.add(st)\n",
    "        \n",
    "    frame = pd.DataFrame({cat : np.zeros(n) for cat in set_cat})\n",
    "    for cat in set_cat:\n",
    "        for i in range(n):\n",
    "            frame[cat][i] = int(cat in data[feature][i])\n",
    "            \n",
    "    return frame       \n",
    "    "
   ]
  },
  {
   "cell_type": "code",
   "execution_count": 206,
   "metadata": {},
   "outputs": [],
   "source": [
    "# трансформатор для категориальных признаков\n",
    "\n",
    "class PartitionEncoder():\n",
    "    def __init__(self, feature, delimit):\n",
    "        self.set_cat = set()\n",
    "        self.feature = feature\n",
    "        self.delimit = delimit\n",
    "        \n",
    "    def fit(self, data):\n",
    "        arr_val = data[self.feature].unique()\n",
    "        for val in arr_val:\n",
    "            val = list(val.split(self.delimit))\n",
    "            for st in val:\n",
    "                self.set_cat.add(st) \n",
    "                \n",
    "    def transform(self, data):\n",
    "        n = data[self.feature].shape[0]\n",
    "        frame = pd.DataFrame({cat : np.zeros(n) for cat in self.set_cat})\n",
    "        for cat in self.set_cat:\n",
    "            for i in range(n):\n",
    "                frame[cat][i] = int(cat in data[self.feature][i])\n",
    "        del data[self.feature]\n",
    "        data = data.merge(frame, left_index=True, right_index=True)\n",
    "        return data"
   ]
  },
  {
   "cell_type": "code",
   "execution_count": 112,
   "metadata": {},
   "outputs": [],
   "source": [
    "frame = partition_encoder(train_cat, 'Tectonic regime')"
   ]
  },
  {
   "cell_type": "code",
   "execution_count": 113,
   "metadata": {},
   "outputs": [
    {
     "data": {
      "text/html": [
       "<div>\n",
       "<style scoped>\n",
       "    .dataframe tbody tr th:only-of-type {\n",
       "        vertical-align: middle;\n",
       "    }\n",
       "\n",
       "    .dataframe tbody tr th {\n",
       "        vertical-align: top;\n",
       "    }\n",
       "\n",
       "    .dataframe thead th {\n",
       "        text-align: right;\n",
       "    }\n",
       "</style>\n",
       "<table border=\"1\" class=\"dataframe\">\n",
       "  <thead>\n",
       "    <tr style=\"text-align: right;\">\n",
       "      <th></th>\n",
       "      <th>BASEMENT-I</th>\n",
       "      <th>EVAPORITE</th>\n",
       "      <th>REACTIVATION</th>\n",
       "      <th>EROSION</th>\n",
       "      <th>INVERSION</th>\n",
       "      <th>SHALE</th>\n",
       "      <th>STRIKE-SLIP</th>\n",
       "      <th>UPLIFT</th>\n",
       "      <th>DIAPIR</th>\n",
       "      <th>TRANSPRESSION</th>\n",
       "      <th>TRANSTENSION</th>\n",
       "      <th>SYNSEDIMENTATION</th>\n",
       "      <th>COMPRESSION</th>\n",
       "      <th>LINKED</th>\n",
       "      <th>EXTENSION</th>\n",
       "      <th>GRAVITY</th>\n",
       "    </tr>\n",
       "  </thead>\n",
       "  <tbody>\n",
       "    <tr>\n",
       "      <th>0</th>\n",
       "      <td>1.0</td>\n",
       "      <td>0.0</td>\n",
       "      <td>0.0</td>\n",
       "      <td>0.0</td>\n",
       "      <td>0.0</td>\n",
       "      <td>0.0</td>\n",
       "      <td>1.0</td>\n",
       "      <td>0.0</td>\n",
       "      <td>0.0</td>\n",
       "      <td>1.0</td>\n",
       "      <td>0.0</td>\n",
       "      <td>0.0</td>\n",
       "      <td>0.0</td>\n",
       "      <td>0.0</td>\n",
       "      <td>0.0</td>\n",
       "      <td>0.0</td>\n",
       "    </tr>\n",
       "    <tr>\n",
       "      <th>1</th>\n",
       "      <td>0.0</td>\n",
       "      <td>1.0</td>\n",
       "      <td>0.0</td>\n",
       "      <td>0.0</td>\n",
       "      <td>0.0</td>\n",
       "      <td>0.0</td>\n",
       "      <td>0.0</td>\n",
       "      <td>0.0</td>\n",
       "      <td>0.0</td>\n",
       "      <td>0.0</td>\n",
       "      <td>0.0</td>\n",
       "      <td>0.0</td>\n",
       "      <td>0.0</td>\n",
       "      <td>0.0</td>\n",
       "      <td>1.0</td>\n",
       "      <td>1.0</td>\n",
       "    </tr>\n",
       "    <tr>\n",
       "      <th>2</th>\n",
       "      <td>0.0</td>\n",
       "      <td>1.0</td>\n",
       "      <td>0.0</td>\n",
       "      <td>0.0</td>\n",
       "      <td>0.0</td>\n",
       "      <td>0.0</td>\n",
       "      <td>0.0</td>\n",
       "      <td>0.0</td>\n",
       "      <td>0.0</td>\n",
       "      <td>0.0</td>\n",
       "      <td>0.0</td>\n",
       "      <td>0.0</td>\n",
       "      <td>0.0</td>\n",
       "      <td>0.0</td>\n",
       "      <td>1.0</td>\n",
       "      <td>1.0</td>\n",
       "    </tr>\n",
       "    <tr>\n",
       "      <th>3</th>\n",
       "      <td>0.0</td>\n",
       "      <td>0.0</td>\n",
       "      <td>0.0</td>\n",
       "      <td>0.0</td>\n",
       "      <td>0.0</td>\n",
       "      <td>0.0</td>\n",
       "      <td>0.0</td>\n",
       "      <td>0.0</td>\n",
       "      <td>0.0</td>\n",
       "      <td>0.0</td>\n",
       "      <td>0.0</td>\n",
       "      <td>0.0</td>\n",
       "      <td>1.0</td>\n",
       "      <td>0.0</td>\n",
       "      <td>0.0</td>\n",
       "      <td>0.0</td>\n",
       "    </tr>\n",
       "    <tr>\n",
       "      <th>4</th>\n",
       "      <td>0.0</td>\n",
       "      <td>0.0</td>\n",
       "      <td>0.0</td>\n",
       "      <td>0.0</td>\n",
       "      <td>1.0</td>\n",
       "      <td>0.0</td>\n",
       "      <td>0.0</td>\n",
       "      <td>0.0</td>\n",
       "      <td>0.0</td>\n",
       "      <td>0.0</td>\n",
       "      <td>0.0</td>\n",
       "      <td>0.0</td>\n",
       "      <td>1.0</td>\n",
       "      <td>0.0</td>\n",
       "      <td>1.0</td>\n",
       "      <td>0.0</td>\n",
       "    </tr>\n",
       "  </tbody>\n",
       "</table>\n",
       "</div>"
      ],
      "text/plain": [
       "   BASEMENT-I  EVAPORITE  REACTIVATION  EROSION  INVERSION  SHALE  \\\n",
       "0         1.0        0.0           0.0      0.0        0.0    0.0   \n",
       "1         0.0        1.0           0.0      0.0        0.0    0.0   \n",
       "2         0.0        1.0           0.0      0.0        0.0    0.0   \n",
       "3         0.0        0.0           0.0      0.0        0.0    0.0   \n",
       "4         0.0        0.0           0.0      0.0        1.0    0.0   \n",
       "\n",
       "   STRIKE-SLIP  UPLIFT  DIAPIR  TRANSPRESSION  TRANSTENSION  SYNSEDIMENTATION  \\\n",
       "0          1.0     0.0     0.0            1.0           0.0               0.0   \n",
       "1          0.0     0.0     0.0            0.0           0.0               0.0   \n",
       "2          0.0     0.0     0.0            0.0           0.0               0.0   \n",
       "3          0.0     0.0     0.0            0.0           0.0               0.0   \n",
       "4          0.0     0.0     0.0            0.0           0.0               0.0   \n",
       "\n",
       "   COMPRESSION  LINKED  EXTENSION  GRAVITY  \n",
       "0          0.0     0.0        0.0      0.0  \n",
       "1          0.0     0.0        1.0      1.0  \n",
       "2          0.0     0.0        1.0      1.0  \n",
       "3          1.0     0.0        0.0      0.0  \n",
       "4          1.0     0.0        1.0      0.0  "
      ]
     },
     "execution_count": 113,
     "metadata": {},
     "output_type": "execute_result"
    }
   ],
   "source": [
    "frame.head()"
   ]
  },
  {
   "cell_type": "code",
   "execution_count": 184,
   "metadata": {},
   "outputs": [],
   "source": [
    "transformer = PartitionEncoder('Tectonic regime', '/')\n",
    "transformer.fit(train_cat)\n",
    "new_train_cat = transformer.transform(train_cat)"
   ]
  },
  {
   "cell_type": "code",
   "execution_count": 185,
   "metadata": {},
   "outputs": [
    {
     "data": {
      "text/html": [
       "<div>\n",
       "<style scoped>\n",
       "    .dataframe tbody tr th:only-of-type {\n",
       "        vertical-align: middle;\n",
       "    }\n",
       "\n",
       "    .dataframe tbody tr th {\n",
       "        vertical-align: top;\n",
       "    }\n",
       "\n",
       "    .dataframe thead th {\n",
       "        text-align: right;\n",
       "    }\n",
       "</style>\n",
       "<table border=\"1\" class=\"dataframe\">\n",
       "  <thead>\n",
       "    <tr style=\"text-align: right;\">\n",
       "      <th></th>\n",
       "      <th>Hydrocarbon type</th>\n",
       "      <th>Reservoir status</th>\n",
       "      <th>Structural setting</th>\n",
       "      <th>Period</th>\n",
       "      <th>Lithology</th>\n",
       "      <th>BASEMENT-I</th>\n",
       "      <th>EVAPORITE</th>\n",
       "      <th>REACTIVATION</th>\n",
       "      <th>EROSION</th>\n",
       "      <th>INVERSION</th>\n",
       "      <th>...</th>\n",
       "      <th>STRIKE-SLIP</th>\n",
       "      <th>UPLIFT</th>\n",
       "      <th>DIAPIR</th>\n",
       "      <th>TRANSPRESSION</th>\n",
       "      <th>TRANSTENSION</th>\n",
       "      <th>SYNSEDIMENTATION</th>\n",
       "      <th>COMPRESSION</th>\n",
       "      <th>LINKED</th>\n",
       "      <th>EXTENSION</th>\n",
       "      <th>GRAVITY</th>\n",
       "    </tr>\n",
       "  </thead>\n",
       "  <tbody>\n",
       "    <tr>\n",
       "      <th>0</th>\n",
       "      <td>OIL</td>\n",
       "      <td>DEVELOPING</td>\n",
       "      <td>INVERSION/WRENCH</td>\n",
       "      <td>NEOGENE</td>\n",
       "      <td>SANDSTONE</td>\n",
       "      <td>1.0</td>\n",
       "      <td>0.0</td>\n",
       "      <td>0.0</td>\n",
       "      <td>0.0</td>\n",
       "      <td>0.0</td>\n",
       "      <td>...</td>\n",
       "      <td>1.0</td>\n",
       "      <td>0.0</td>\n",
       "      <td>0.0</td>\n",
       "      <td>1.0</td>\n",
       "      <td>0.0</td>\n",
       "      <td>0.0</td>\n",
       "      <td>0.0</td>\n",
       "      <td>0.0</td>\n",
       "      <td>0.0</td>\n",
       "      <td>0.0</td>\n",
       "    </tr>\n",
       "    <tr>\n",
       "      <th>1</th>\n",
       "      <td>OIL</td>\n",
       "      <td>MATURE PRODUCTION</td>\n",
       "      <td>SALT/PASSIVE MARGIN</td>\n",
       "      <td>CRETACEOUS</td>\n",
       "      <td>LIMESTONE</td>\n",
       "      <td>0.0</td>\n",
       "      <td>1.0</td>\n",
       "      <td>0.0</td>\n",
       "      <td>0.0</td>\n",
       "      <td>0.0</td>\n",
       "      <td>...</td>\n",
       "      <td>0.0</td>\n",
       "      <td>0.0</td>\n",
       "      <td>0.0</td>\n",
       "      <td>0.0</td>\n",
       "      <td>0.0</td>\n",
       "      <td>0.0</td>\n",
       "      <td>0.0</td>\n",
       "      <td>0.0</td>\n",
       "      <td>1.0</td>\n",
       "      <td>1.0</td>\n",
       "    </tr>\n",
       "    <tr>\n",
       "      <th>2</th>\n",
       "      <td>OIL</td>\n",
       "      <td>MATURE PRODUCTION</td>\n",
       "      <td>PASSIVE MARGIN</td>\n",
       "      <td>CRETACEOUS</td>\n",
       "      <td>LIMESTONE</td>\n",
       "      <td>0.0</td>\n",
       "      <td>1.0</td>\n",
       "      <td>0.0</td>\n",
       "      <td>0.0</td>\n",
       "      <td>0.0</td>\n",
       "      <td>...</td>\n",
       "      <td>0.0</td>\n",
       "      <td>0.0</td>\n",
       "      <td>0.0</td>\n",
       "      <td>0.0</td>\n",
       "      <td>0.0</td>\n",
       "      <td>0.0</td>\n",
       "      <td>0.0</td>\n",
       "      <td>0.0</td>\n",
       "      <td>1.0</td>\n",
       "      <td>1.0</td>\n",
       "    </tr>\n",
       "    <tr>\n",
       "      <th>3</th>\n",
       "      <td>OIL</td>\n",
       "      <td>DECLINING PRODUCTION</td>\n",
       "      <td>THRUST</td>\n",
       "      <td>CRETACEOUS</td>\n",
       "      <td>SANDSTONE</td>\n",
       "      <td>0.0</td>\n",
       "      <td>0.0</td>\n",
       "      <td>0.0</td>\n",
       "      <td>0.0</td>\n",
       "      <td>0.0</td>\n",
       "      <td>...</td>\n",
       "      <td>0.0</td>\n",
       "      <td>0.0</td>\n",
       "      <td>0.0</td>\n",
       "      <td>0.0</td>\n",
       "      <td>0.0</td>\n",
       "      <td>0.0</td>\n",
       "      <td>1.0</td>\n",
       "      <td>0.0</td>\n",
       "      <td>0.0</td>\n",
       "      <td>0.0</td>\n",
       "    </tr>\n",
       "    <tr>\n",
       "      <th>4</th>\n",
       "      <td>OIL</td>\n",
       "      <td>DECLINING PRODUCTION</td>\n",
       "      <td>INVERSION/RIFT</td>\n",
       "      <td>CRETACEOUS</td>\n",
       "      <td>SANDSTONE</td>\n",
       "      <td>0.0</td>\n",
       "      <td>0.0</td>\n",
       "      <td>0.0</td>\n",
       "      <td>0.0</td>\n",
       "      <td>1.0</td>\n",
       "      <td>...</td>\n",
       "      <td>0.0</td>\n",
       "      <td>0.0</td>\n",
       "      <td>0.0</td>\n",
       "      <td>0.0</td>\n",
       "      <td>0.0</td>\n",
       "      <td>0.0</td>\n",
       "      <td>1.0</td>\n",
       "      <td>0.0</td>\n",
       "      <td>1.0</td>\n",
       "      <td>0.0</td>\n",
       "    </tr>\n",
       "  </tbody>\n",
       "</table>\n",
       "<p>5 rows × 21 columns</p>\n",
       "</div>"
      ],
      "text/plain": [
       "  Hydrocarbon type      Reservoir status   Structural setting      Period  \\\n",
       "0              OIL            DEVELOPING     INVERSION/WRENCH     NEOGENE   \n",
       "1              OIL     MATURE PRODUCTION  SALT/PASSIVE MARGIN  CRETACEOUS   \n",
       "2              OIL     MATURE PRODUCTION       PASSIVE MARGIN  CRETACEOUS   \n",
       "3              OIL  DECLINING PRODUCTION               THRUST  CRETACEOUS   \n",
       "4              OIL  DECLINING PRODUCTION       INVERSION/RIFT  CRETACEOUS   \n",
       "\n",
       "   Lithology  BASEMENT-I  EVAPORITE  REACTIVATION  EROSION  INVERSION  ...  \\\n",
       "0  SANDSTONE         1.0        0.0           0.0      0.0        0.0  ...   \n",
       "1  LIMESTONE         0.0        1.0           0.0      0.0        0.0  ...   \n",
       "2  LIMESTONE         0.0        1.0           0.0      0.0        0.0  ...   \n",
       "3  SANDSTONE         0.0        0.0           0.0      0.0        0.0  ...   \n",
       "4  SANDSTONE         0.0        0.0           0.0      0.0        1.0  ...   \n",
       "\n",
       "   STRIKE-SLIP  UPLIFT  DIAPIR  TRANSPRESSION  TRANSTENSION  SYNSEDIMENTATION  \\\n",
       "0          1.0     0.0     0.0            1.0           0.0               0.0   \n",
       "1          0.0     0.0     0.0            0.0           0.0               0.0   \n",
       "2          0.0     0.0     0.0            0.0           0.0               0.0   \n",
       "3          0.0     0.0     0.0            0.0           0.0               0.0   \n",
       "4          0.0     0.0     0.0            0.0           0.0               0.0   \n",
       "\n",
       "   COMPRESSION  LINKED  EXTENSION  GRAVITY  \n",
       "0          0.0     0.0        0.0      0.0  \n",
       "1          0.0     0.0        1.0      1.0  \n",
       "2          0.0     0.0        1.0      1.0  \n",
       "3          1.0     0.0        0.0      0.0  \n",
       "4          1.0     0.0        1.0      0.0  \n",
       "\n",
       "[5 rows x 21 columns]"
      ]
     },
     "execution_count": 185,
     "metadata": {},
     "output_type": "execute_result"
    }
   ],
   "source": [
    "new_train_cat.head()"
   ]
  },
  {
   "cell_type": "code",
   "execution_count": 131,
   "metadata": {},
   "outputs": [
    {
     "data": {
      "text/plain": [
       "Index(['Hydrocarbon type', 'Reservoir status', 'Structural setting', 'Period',\n",
       "       'Lithology', 'BASEMENT-I', 'EVAPORITE', 'REACTIVATION', 'EROSION',\n",
       "       'INVERSION', 'SHALE', 'STRIKE-SLIP', 'UPLIFT', 'DIAPIR',\n",
       "       'TRANSPRESSION', 'TRANSTENSION', 'SYNSEDIMENTATION', 'COMPRESSION',\n",
       "       'LINKED', 'EXTENSION', 'GRAVITY'],\n",
       "      dtype='object')"
      ]
     },
     "execution_count": 131,
     "metadata": {},
     "output_type": "execute_result"
    }
   ],
   "source": [
    "new_train_cat.columns"
   ]
  },
  {
   "cell_type": "code",
   "execution_count": 130,
   "metadata": {
    "scrolled": true
   },
   "outputs": [
    {
     "data": {
      "text/html": [
       "<div>\n",
       "<style scoped>\n",
       "    .dataframe tbody tr th:only-of-type {\n",
       "        vertical-align: middle;\n",
       "    }\n",
       "\n",
       "    .dataframe tbody tr th {\n",
       "        vertical-align: top;\n",
       "    }\n",
       "\n",
       "    .dataframe thead th {\n",
       "        text-align: right;\n",
       "    }\n",
       "</style>\n",
       "<table border=\"1\" class=\"dataframe\">\n",
       "  <thead>\n",
       "    <tr style=\"text-align: right;\">\n",
       "      <th></th>\n",
       "      <th>Hydrocarbon type</th>\n",
       "      <th>Reservoir status</th>\n",
       "      <th>Structural setting</th>\n",
       "      <th>Period</th>\n",
       "      <th>Lithology</th>\n",
       "      <th>BASEMENT-I</th>\n",
       "      <th>EVAPORITE</th>\n",
       "      <th>REACTIVATION</th>\n",
       "      <th>EROSION</th>\n",
       "      <th>INVERSION</th>\n",
       "      <th>...</th>\n",
       "      <th>STRIKE-SLIP</th>\n",
       "      <th>UPLIFT</th>\n",
       "      <th>DIAPIR</th>\n",
       "      <th>TRANSPRESSION</th>\n",
       "      <th>TRANSTENSION</th>\n",
       "      <th>SYNSEDIMENTATION</th>\n",
       "      <th>COMPRESSION</th>\n",
       "      <th>LINKED</th>\n",
       "      <th>EXTENSION</th>\n",
       "      <th>GRAVITY</th>\n",
       "    </tr>\n",
       "  </thead>\n",
       "  <tbody>\n",
       "    <tr>\n",
       "      <th>0</th>\n",
       "      <td>GAS</td>\n",
       "      <td>MATURE PRODUCTION</td>\n",
       "      <td>FORELAND</td>\n",
       "      <td>PERMIAN</td>\n",
       "      <td>SANDSTONE</td>\n",
       "      <td>0.0</td>\n",
       "      <td>0.0</td>\n",
       "      <td>0.0</td>\n",
       "      <td>0.0</td>\n",
       "      <td>0.0</td>\n",
       "      <td>...</td>\n",
       "      <td>0.0</td>\n",
       "      <td>0.0</td>\n",
       "      <td>0.0</td>\n",
       "      <td>0.0</td>\n",
       "      <td>0.0</td>\n",
       "      <td>0.0</td>\n",
       "      <td>1.0</td>\n",
       "      <td>0.0</td>\n",
       "      <td>0.0</td>\n",
       "      <td>0.0</td>\n",
       "    </tr>\n",
       "    <tr>\n",
       "      <th>1</th>\n",
       "      <td>OIL</td>\n",
       "      <td>ABANDONED</td>\n",
       "      <td>FORELAND</td>\n",
       "      <td>PERMIAN</td>\n",
       "      <td>SANDSTONE</td>\n",
       "      <td>0.0</td>\n",
       "      <td>0.0</td>\n",
       "      <td>0.0</td>\n",
       "      <td>1.0</td>\n",
       "      <td>1.0</td>\n",
       "      <td>...</td>\n",
       "      <td>0.0</td>\n",
       "      <td>0.0</td>\n",
       "      <td>0.0</td>\n",
       "      <td>0.0</td>\n",
       "      <td>0.0</td>\n",
       "      <td>0.0</td>\n",
       "      <td>1.0</td>\n",
       "      <td>0.0</td>\n",
       "      <td>1.0</td>\n",
       "      <td>0.0</td>\n",
       "    </tr>\n",
       "    <tr>\n",
       "      <th>2</th>\n",
       "      <td>GAS</td>\n",
       "      <td>DECLINING PRODUCTION</td>\n",
       "      <td>INVERSION/RIFT</td>\n",
       "      <td>JURASSIC</td>\n",
       "      <td>DOLOMITE</td>\n",
       "      <td>0.0</td>\n",
       "      <td>1.0</td>\n",
       "      <td>0.0</td>\n",
       "      <td>0.0</td>\n",
       "      <td>1.0</td>\n",
       "      <td>...</td>\n",
       "      <td>0.0</td>\n",
       "      <td>0.0</td>\n",
       "      <td>0.0</td>\n",
       "      <td>0.0</td>\n",
       "      <td>0.0</td>\n",
       "      <td>0.0</td>\n",
       "      <td>1.0</td>\n",
       "      <td>0.0</td>\n",
       "      <td>1.0</td>\n",
       "      <td>0.0</td>\n",
       "    </tr>\n",
       "    <tr>\n",
       "      <th>3</th>\n",
       "      <td>OIL</td>\n",
       "      <td>DEVELOPING</td>\n",
       "      <td>THRUST</td>\n",
       "      <td>NEOGENE</td>\n",
       "      <td>SANDSTONE</td>\n",
       "      <td>0.0</td>\n",
       "      <td>1.0</td>\n",
       "      <td>0.0</td>\n",
       "      <td>0.0</td>\n",
       "      <td>0.0</td>\n",
       "      <td>...</td>\n",
       "      <td>0.0</td>\n",
       "      <td>0.0</td>\n",
       "      <td>0.0</td>\n",
       "      <td>0.0</td>\n",
       "      <td>0.0</td>\n",
       "      <td>0.0</td>\n",
       "      <td>1.0</td>\n",
       "      <td>1.0</td>\n",
       "      <td>1.0</td>\n",
       "      <td>0.0</td>\n",
       "    </tr>\n",
       "    <tr>\n",
       "      <th>4</th>\n",
       "      <td>GAS-CONDENSATE</td>\n",
       "      <td>MATURE PRODUCTION</td>\n",
       "      <td>FORELAND</td>\n",
       "      <td>CARBONIFEROUS</td>\n",
       "      <td>DOLOMITE</td>\n",
       "      <td>0.0</td>\n",
       "      <td>0.0</td>\n",
       "      <td>0.0</td>\n",
       "      <td>1.0</td>\n",
       "      <td>0.0</td>\n",
       "      <td>...</td>\n",
       "      <td>0.0</td>\n",
       "      <td>0.0</td>\n",
       "      <td>0.0</td>\n",
       "      <td>0.0</td>\n",
       "      <td>0.0</td>\n",
       "      <td>0.0</td>\n",
       "      <td>1.0</td>\n",
       "      <td>0.0</td>\n",
       "      <td>0.0</td>\n",
       "      <td>0.0</td>\n",
       "    </tr>\n",
       "  </tbody>\n",
       "</table>\n",
       "<p>5 rows × 21 columns</p>\n",
       "</div>"
      ],
      "text/plain": [
       "  Hydrocarbon type      Reservoir status Structural setting         Period  \\\n",
       "0              GAS     MATURE PRODUCTION           FORELAND        PERMIAN   \n",
       "1              OIL             ABANDONED           FORELAND        PERMIAN   \n",
       "2              GAS  DECLINING PRODUCTION     INVERSION/RIFT       JURASSIC   \n",
       "3              OIL            DEVELOPING             THRUST        NEOGENE   \n",
       "4   GAS-CONDENSATE     MATURE PRODUCTION           FORELAND  CARBONIFEROUS   \n",
       "\n",
       "   Lithology  BASEMENT-I  EVAPORITE  REACTIVATION  EROSION  INVERSION  ...  \\\n",
       "0  SANDSTONE         0.0        0.0           0.0      0.0        0.0  ...   \n",
       "1  SANDSTONE         0.0        0.0           0.0      1.0        1.0  ...   \n",
       "2   DOLOMITE         0.0        1.0           0.0      0.0        1.0  ...   \n",
       "3  SANDSTONE         0.0        1.0           0.0      0.0        0.0  ...   \n",
       "4   DOLOMITE         0.0        0.0           0.0      1.0        0.0  ...   \n",
       "\n",
       "   STRIKE-SLIP  UPLIFT  DIAPIR  TRANSPRESSION  TRANSTENSION  SYNSEDIMENTATION  \\\n",
       "0          0.0     0.0     0.0            0.0           0.0               0.0   \n",
       "1          0.0     0.0     0.0            0.0           0.0               0.0   \n",
       "2          0.0     0.0     0.0            0.0           0.0               0.0   \n",
       "3          0.0     0.0     0.0            0.0           0.0               0.0   \n",
       "4          0.0     0.0     0.0            0.0           0.0               0.0   \n",
       "\n",
       "   COMPRESSION  LINKED  EXTENSION  GRAVITY  \n",
       "0          1.0     0.0        0.0      0.0  \n",
       "1          1.0     0.0        1.0      0.0  \n",
       "2          1.0     0.0        1.0      0.0  \n",
       "3          1.0     1.0        1.0      0.0  \n",
       "4          1.0     0.0        0.0      0.0  \n",
       "\n",
       "[5 rows x 21 columns]"
      ]
     },
     "execution_count": 130,
     "metadata": {},
     "output_type": "execute_result"
    }
   ],
   "source": [
    "new_test_cat = transformer.transform(test_cat)\n",
    "new_test_cat.head()"
   ]
  },
  {
   "cell_type": "markdown",
   "metadata": {},
   "source": [
    "## Обработка вещественных признаков"
   ]
  },
  {
   "cell_type": "code",
   "execution_count": 53,
   "metadata": {},
   "outputs": [
    {
     "data": {
      "text/plain": [
       "<AxesSubplot:>"
      ]
     },
     "execution_count": 53,
     "metadata": {},
     "output_type": "execute_result"
    },
    {
     "data": {
      "image/png": "[encoded data removed]",
      "text/plain": [
       "<Figure size 432x288 with 2 Axes>"
      ]
     },
     "metadata": {
      "needs_background": "light"
     },
     "output_type": "display_data"
    }
   ],
   "source": [
    "corr_matrix = train_real.corr()\n",
    "sns.heatmap(corr_matrix)"
   ]
  },
  {
   "cell_type": "code",
   "execution_count": null,
   "metadata": {},
   "outputs": [],
   "source": []
  },
  {
   "cell_type": "code",
   "execution_count": 54,
   "metadata": {},
   "outputs": [
    {
     "data": {
      "text/plain": [
       "array([[<AxesSubplot:title={'center':'Depth'}>,\n",
       "        <AxesSubplot:title={'center':'Gross'}>],\n",
       "       [<AxesSubplot:title={'center':'Netpay'}>,\n",
       "        <AxesSubplot:title={'center':'Porosity'}>],\n",
       "       [<AxesSubplot:title={'center':'Permeability'}>, <AxesSubplot:>]],\n",
       "      dtype=object)"
      ]
     },
     "execution_count": 54,
     "metadata": {},
     "output_type": "execute_result"
    },
    {
     "data": {
      "image/png": "[encoded data removed]",
      "text/plain": [
       "<Figure size 720x720 with 6 Axes>"
      ]
     },
     "metadata": {
      "needs_background": "light"
     },
     "output_type": "display_data"
    }
   ],
   "source": [
    "train_real.hist(figsize=(10,10))"
   ]
  },
  {
   "cell_type": "code",
   "execution_count": 250,
   "metadata": {},
   "outputs": [],
   "source": [
    "from sklearn.preprocessing import StandardScaler\n",
    "\n",
    "scaler = StandardScaler()\n",
    "scaler.fit(train_real)\n",
    "train_real_new = scaler.transform(train_real)\n",
    "test_real_new = scaler.transform(test_real)"
   ]
  },
  {
   "cell_type": "code",
   "execution_count": 266,
   "metadata": {},
   "outputs": [
    {
     "data": {
      "text/plain": [
       "(309, 5)"
      ]
     },
     "execution_count": 266,
     "metadata": {},
     "output_type": "execute_result"
    }
   ],
   "source": [
    "train_real_new.shape"
   ]
  },
  {
   "cell_type": "code",
   "execution_count": 267,
   "metadata": {},
   "outputs": [
    {
     "data": {
      "text/plain": [
       "(133, 5)"
      ]
     },
     "execution_count": 267,
     "metadata": {},
     "output_type": "execute_result"
    }
   ],
   "source": [
    "test_real_new.shape"
   ]
  },
  {
   "cell_type": "markdown",
   "metadata": {},
   "source": [
    "### Обработка категориальных признаков"
   ]
  },
  {
   "cell_type": "code",
   "execution_count": 273,
   "metadata": {},
   "outputs": [],
   "source": [
    "# признаки которые надо разделять\n",
    "cat_multi = [('Tectonic regime', '/'), ('Structural setting', '/'), ('Period', '-')]\n",
    "# признаки в которых надо заменить значение\n",
    "cat_single = [('Hydrocarbon type', 'BITUMEN'), ('Reservoir status', 'TEMPORARILY SHUT-IN'),\n",
    "              ('Lithology', 'GLAUCONITIC SANDSTONE')]"
   ]
  },
  {
   "cell_type": "code",
   "execution_count": 274,
   "metadata": {},
   "outputs": [],
   "source": [
    "train_cat_multi = train_cat[['Tectonic regime', 'Structural setting', 'Period']]\n",
    "test_cat_multi = test_cat[['Tectonic regime', 'Structural setting', 'Period']]"
   ]
  },
  {
   "cell_type": "code",
   "execution_count": 275,
   "metadata": {},
   "outputs": [
    {
     "data": {
      "text/html": [
       "<div>\n",
       "<style scoped>\n",
       "    .dataframe tbody tr th:only-of-type {\n",
       "        vertical-align: middle;\n",
       "    }\n",
       "\n",
       "    .dataframe tbody tr th {\n",
       "        vertical-align: top;\n",
       "    }\n",
       "\n",
       "    .dataframe thead th {\n",
       "        text-align: right;\n",
       "    }\n",
       "</style>\n",
       "<table border=\"1\" class=\"dataframe\">\n",
       "  <thead>\n",
       "    <tr style=\"text-align: right;\">\n",
       "      <th></th>\n",
       "      <th>BASEMENT-I</th>\n",
       "      <th>EVAPORITE</th>\n",
       "      <th>REACTIVATION</th>\n",
       "      <th>EROSION</th>\n",
       "      <th>INVERSION_x</th>\n",
       "      <th>SHALE</th>\n",
       "      <th>STRIKE-SLIP</th>\n",
       "      <th>UPLIFT</th>\n",
       "      <th>DIAPIR</th>\n",
       "      <th>TRANSPRESSION</th>\n",
       "      <th>...</th>\n",
       "      <th>PROTEROZOIC</th>\n",
       "      <th>PERMIAN</th>\n",
       "      <th>MESOZOIC</th>\n",
       "      <th>NEOGENE</th>\n",
       "      <th>ARCHEAN</th>\n",
       "      <th>CAMBRIAN</th>\n",
       "      <th>PALEOGENE</th>\n",
       "      <th>DEVONIAN</th>\n",
       "      <th>JURASSIC</th>\n",
       "      <th>ORDOVICIAN</th>\n",
       "    </tr>\n",
       "  </thead>\n",
       "  <tbody>\n",
       "    <tr>\n",
       "      <th>0</th>\n",
       "      <td>0.0</td>\n",
       "      <td>0.0</td>\n",
       "      <td>0.0</td>\n",
       "      <td>0.0</td>\n",
       "      <td>0.0</td>\n",
       "      <td>0.0</td>\n",
       "      <td>0.0</td>\n",
       "      <td>0.0</td>\n",
       "      <td>0.0</td>\n",
       "      <td>0.0</td>\n",
       "      <td>...</td>\n",
       "      <td>0.0</td>\n",
       "      <td>1.0</td>\n",
       "      <td>0.0</td>\n",
       "      <td>0.0</td>\n",
       "      <td>0.0</td>\n",
       "      <td>0.0</td>\n",
       "      <td>0.0</td>\n",
       "      <td>0.0</td>\n",
       "      <td>0.0</td>\n",
       "      <td>0.0</td>\n",
       "    </tr>\n",
       "    <tr>\n",
       "      <th>1</th>\n",
       "      <td>0.0</td>\n",
       "      <td>0.0</td>\n",
       "      <td>0.0</td>\n",
       "      <td>1.0</td>\n",
       "      <td>1.0</td>\n",
       "      <td>0.0</td>\n",
       "      <td>0.0</td>\n",
       "      <td>0.0</td>\n",
       "      <td>0.0</td>\n",
       "      <td>0.0</td>\n",
       "      <td>...</td>\n",
       "      <td>0.0</td>\n",
       "      <td>1.0</td>\n",
       "      <td>0.0</td>\n",
       "      <td>0.0</td>\n",
       "      <td>0.0</td>\n",
       "      <td>0.0</td>\n",
       "      <td>0.0</td>\n",
       "      <td>0.0</td>\n",
       "      <td>0.0</td>\n",
       "      <td>0.0</td>\n",
       "    </tr>\n",
       "    <tr>\n",
       "      <th>2</th>\n",
       "      <td>0.0</td>\n",
       "      <td>1.0</td>\n",
       "      <td>0.0</td>\n",
       "      <td>0.0</td>\n",
       "      <td>1.0</td>\n",
       "      <td>0.0</td>\n",
       "      <td>0.0</td>\n",
       "      <td>0.0</td>\n",
       "      <td>0.0</td>\n",
       "      <td>0.0</td>\n",
       "      <td>...</td>\n",
       "      <td>0.0</td>\n",
       "      <td>0.0</td>\n",
       "      <td>0.0</td>\n",
       "      <td>0.0</td>\n",
       "      <td>0.0</td>\n",
       "      <td>0.0</td>\n",
       "      <td>0.0</td>\n",
       "      <td>0.0</td>\n",
       "      <td>1.0</td>\n",
       "      <td>0.0</td>\n",
       "    </tr>\n",
       "    <tr>\n",
       "      <th>3</th>\n",
       "      <td>0.0</td>\n",
       "      <td>1.0</td>\n",
       "      <td>0.0</td>\n",
       "      <td>0.0</td>\n",
       "      <td>0.0</td>\n",
       "      <td>0.0</td>\n",
       "      <td>0.0</td>\n",
       "      <td>0.0</td>\n",
       "      <td>0.0</td>\n",
       "      <td>0.0</td>\n",
       "      <td>...</td>\n",
       "      <td>0.0</td>\n",
       "      <td>0.0</td>\n",
       "      <td>0.0</td>\n",
       "      <td>1.0</td>\n",
       "      <td>0.0</td>\n",
       "      <td>0.0</td>\n",
       "      <td>0.0</td>\n",
       "      <td>0.0</td>\n",
       "      <td>0.0</td>\n",
       "      <td>0.0</td>\n",
       "    </tr>\n",
       "    <tr>\n",
       "      <th>4</th>\n",
       "      <td>0.0</td>\n",
       "      <td>0.0</td>\n",
       "      <td>0.0</td>\n",
       "      <td>1.0</td>\n",
       "      <td>0.0</td>\n",
       "      <td>0.0</td>\n",
       "      <td>0.0</td>\n",
       "      <td>0.0</td>\n",
       "      <td>0.0</td>\n",
       "      <td>0.0</td>\n",
       "      <td>...</td>\n",
       "      <td>0.0</td>\n",
       "      <td>0.0</td>\n",
       "      <td>0.0</td>\n",
       "      <td>0.0</td>\n",
       "      <td>0.0</td>\n",
       "      <td>0.0</td>\n",
       "      <td>0.0</td>\n",
       "      <td>0.0</td>\n",
       "      <td>0.0</td>\n",
       "      <td>0.0</td>\n",
       "    </tr>\n",
       "  </tbody>\n",
       "</table>\n",
       "<p>5 rows × 44 columns</p>\n",
       "</div>"
      ],
      "text/plain": [
       "   BASEMENT-I  EVAPORITE  REACTIVATION  EROSION  INVERSION_x  SHALE  \\\n",
       "0         0.0        0.0           0.0      0.0          0.0    0.0   \n",
       "1         0.0        0.0           0.0      1.0          1.0    0.0   \n",
       "2         0.0        1.0           0.0      0.0          1.0    0.0   \n",
       "3         0.0        1.0           0.0      0.0          0.0    0.0   \n",
       "4         0.0        0.0           0.0      1.0          0.0    0.0   \n",
       "\n",
       "   STRIKE-SLIP  UPLIFT  DIAPIR  TRANSPRESSION  ...  PROTEROZOIC  PERMIAN  \\\n",
       "0          0.0     0.0     0.0            0.0  ...          0.0      1.0   \n",
       "1          0.0     0.0     0.0            0.0  ...          0.0      1.0   \n",
       "2          0.0     0.0     0.0            0.0  ...          0.0      0.0   \n",
       "3          0.0     0.0     0.0            0.0  ...          0.0      0.0   \n",
       "4          0.0     0.0     0.0            0.0  ...          0.0      0.0   \n",
       "\n",
       "   MESOZOIC  NEOGENE  ARCHEAN  CAMBRIAN  PALEOGENE  DEVONIAN  JURASSIC  \\\n",
       "0       0.0      0.0      0.0       0.0        0.0       0.0       0.0   \n",
       "1       0.0      0.0      0.0       0.0        0.0       0.0       0.0   \n",
       "2       0.0      0.0      0.0       0.0        0.0       0.0       1.0   \n",
       "3       0.0      1.0      0.0       0.0        0.0       0.0       0.0   \n",
       "4       0.0      0.0      0.0       0.0        0.0       0.0       0.0   \n",
       "\n",
       "   ORDOVICIAN  \n",
       "0         0.0  \n",
       "1         0.0  \n",
       "2         0.0  \n",
       "3         0.0  \n",
       "4         0.0  \n",
       "\n",
       "[5 rows x 44 columns]"
      ]
     },
     "execution_count": 275,
     "metadata": {},
     "output_type": "execute_result"
    }
   ],
   "source": [
    "for feature, delimit in cat_multi:\n",
    "    transformer = PartitionEncoder(feature, delimit)\n",
    "    transformer.fit(train_cat_multi)\n",
    "    train_cat_multi = transformer.transform(train_cat_multi)\n",
    "    test_cat_multi = transformer.transform(test_cat_multi)\n",
    "    \n",
    "test_cat_multi.head()"
   ]
  },
  {
   "cell_type": "code",
   "execution_count": 276,
   "metadata": {},
   "outputs": [
    {
     "data": {
      "text/plain": [
       "array([[1., 0., 0., ..., 0., 0., 0.],\n",
       "       [0., 1., 0., ..., 0., 0., 0.],\n",
       "       [0., 1., 0., ..., 0., 0., 0.],\n",
       "       ...,\n",
       "       [0., 1., 0., ..., 0., 0., 0.],\n",
       "       [0., 1., 0., ..., 0., 1., 0.],\n",
       "       [0., 0., 0., ..., 0., 0., 0.]])"
      ]
     },
     "execution_count": 276,
     "metadata": {},
     "output_type": "execute_result"
    }
   ],
   "source": [
    "test_cat_multi.to_numpy()\n",
    "train_cat_multi.to_numpy()"
   ]
  },
  {
   "cell_type": "code",
   "execution_count": 277,
   "metadata": {},
   "outputs": [
    {
     "name": "stdout",
     "output_type": "stream",
     "text": [
      "(133, 44)\n",
      "(309, 44)\n"
     ]
    }
   ],
   "source": [
    "print(test_cat_multi.shape)\n",
    "print(train_cat_multi.shape)"
   ]
  },
  {
   "cell_type": "code",
   "execution_count": 278,
   "metadata": {},
   "outputs": [],
   "source": [
    "train_cat_single = train_cat[['Hydrocarbon type', 'Reservoir status', 'Lithology']]\n",
    "test_cat_single = test_cat[['Hydrocarbon type', 'Reservoir status', 'Lithology']]"
   ]
  },
  {
   "cell_type": "code",
   "execution_count": 279,
   "metadata": {},
   "outputs": [
    {
     "name": "stderr",
     "output_type": "stream",
     "text": [
      "C:\\Anaconda\\lib\\site-packages\\pandas\\core\\frame.py:4385: SettingWithCopyWarning: \n",
      "A value is trying to be set on a copy of a slice from a DataFrame\n",
      "\n",
      "See the caveats in the documentation: https://pandas.pydata.org/pandas-docs/stable/user_guide/indexing.html#returning-a-view-versus-a-copy\n",
      "  method=method,\n"
     ]
    }
   ],
   "source": [
    "# заменим 'Hydrocarbon type', 'BITUMEN', 'OIL'\n",
    "\n",
    "test_cat_single.replace('BITUMEN', 'OIL', inplace=True)"
   ]
  },
  {
   "cell_type": "code",
   "execution_count": 280,
   "metadata": {},
   "outputs": [],
   "source": [
    "# заменим 'Reservoir status', 'TEMPORARILY SHUT-IN' на 'ABANDONED' в тесте\n",
    "# 'DEPLETED' на NEARLY DEPLETED  в трейне\n",
    "\n",
    "test_cat_single.replace('TEMPORARILY SHUT-IN', 'ABANDONED', inplace=True)\n",
    "train_cat_single.replace('DEPLETED', 'NEARLY DEPLETED', inplace=True)"
   ]
  },
  {
   "cell_type": "code",
   "execution_count": 281,
   "metadata": {},
   "outputs": [],
   "source": [
    "# заменим 'Lithology', 'GLAUCONITIC SANDSTONE', 'SANDSTONE'\n",
    "\n",
    "test_cat_single.replace('GLAUCONITIC SANDSTONE', 'SANDSTONE', inplace=True)"
   ]
  },
  {
   "cell_type": "code",
   "execution_count": 282,
   "metadata": {},
   "outputs": [],
   "source": [
    "from sklearn.preprocessing import OneHotEncoder\n",
    "encoder = OneHotEncoder()\n",
    "encoder.fit(train_cat_single)\n",
    "train_cat_single = encoder.transform(train_cat_single).toarray()\n",
    "test_cat_single = encoder.transform(test_cat_single).toarray()"
   ]
  },
  {
   "cell_type": "code",
   "execution_count": 283,
   "metadata": {},
   "outputs": [
    {
     "data": {
      "text/plain": [
       "(309, 32)"
      ]
     },
     "execution_count": 283,
     "metadata": {},
     "output_type": "execute_result"
    }
   ],
   "source": [
    "train_cat_single.shape"
   ]
  },
  {
   "cell_type": "code",
   "execution_count": 284,
   "metadata": {},
   "outputs": [
    {
     "data": {
      "text/plain": [
       "(133, 32)"
      ]
     },
     "execution_count": 284,
     "metadata": {},
     "output_type": "execute_result"
    }
   ],
   "source": [
    "test_cat_single.shape"
   ]
  },
  {
   "cell_type": "markdown",
   "metadata": {},
   "source": [
    "### Объединим все"
   ]
  },
  {
   "cell_type": "code",
   "execution_count": null,
   "metadata": {},
   "outputs": [],
   "source": []
  },
  {
   "cell_type": "code",
   "execution_count": 285,
   "metadata": {},
   "outputs": [],
   "source": [
    "train_new = np.hstack((train_real_new, train_cat_multi, train_cat_single))\n",
    "test_new = np.hstack((test_real_new, test_cat_multi, test_cat_single))"
   ]
  },
  {
   "cell_type": "code",
   "execution_count": 286,
   "metadata": {},
   "outputs": [
    {
     "data": {
      "text/plain": [
       "(309, 81)"
      ]
     },
     "execution_count": 286,
     "metadata": {},
     "output_type": "execute_result"
    }
   ],
   "source": [
    "train_new.shape"
   ]
  },
  {
   "cell_type": "code",
   "execution_count": 287,
   "metadata": {},
   "outputs": [
    {
     "data": {
      "text/plain": [
       "(133, 81)"
      ]
     },
     "execution_count": 287,
     "metadata": {},
     "output_type": "execute_result"
    }
   ],
   "source": [
    "test_new.shape"
   ]
  },
  {
   "cell_type": "markdown",
   "metadata": {},
   "source": [
    "## Модели"
   ]
  },
  {
   "cell_type": "markdown",
   "metadata": {},
   "source": [
    "## Логистическая ргрессия"
   ]
  },
  {
   "cell_type": "code",
   "execution_count": 289,
   "metadata": {},
   "outputs": [],
   "source": [
    "from sklearn.model_selection import GridSearchCV\n",
    "from sklearn.model_selection import StratifiedShuffleSplit\n",
    "from sklearn.linear_model import LogisticRegression\n",
    "from sklearn.metrics import accuracy_score"
   ]
  },
  {
   "cell_type": "code",
   "execution_count": 290,
   "metadata": {},
   "outputs": [
    {
     "data": {
      "text/plain": [
       "dict_keys(['C', 'class_weight', 'dual', 'fit_intercept', 'intercept_scaling', 'l1_ratio', 'max_iter', 'multi_class', 'n_jobs', 'penalty', 'random_state', 'solver', 'tol', 'verbose', 'warm_start'])"
      ]
     },
     "execution_count": 290,
     "metadata": {},
     "output_type": "execute_result"
    }
   ],
   "source": [
    "classifier = LogisticRegression()\n",
    "classifier.get_params().keys()"
   ]
  },
  {
   "cell_type": "code",
   "execution_count": 298,
   "metadata": {},
   "outputs": [
    {
     "name": "stderr",
     "output_type": "stream",
     "text": [
      "C:\\Anaconda\\lib\\site-packages\\sklearn\\model_selection\\_validation.py:552: FitFailedWarning: Estimator fit failed. The score on this train-test partition for these parameters will be set to nan. Details: \n",
      "Traceback (most recent call last):\n",
      "  File \"C:\\Anaconda\\lib\\site-packages\\sklearn\\model_selection\\_validation.py\", line 531, in _fit_and_score\n",
      "    estimator.fit(X_train, y_train, **fit_params)\n",
      "  File \"C:\\Anaconda\\lib\\site-packages\\sklearn\\linear_model\\_logistic.py\", line 1304, in fit\n",
      "    solver = _check_solver(self.solver, self.penalty, self.dual)\n",
      "  File \"C:\\Anaconda\\lib\\site-packages\\sklearn\\linear_model\\_logistic.py\", line 443, in _check_solver\n",
      "    \"got %s penalty.\" % (solver, penalty))\n",
      "ValueError: Solver lbfgs supports only 'l2' or 'none' penalties, got l1 penalty.\n",
      "\n",
      "  FitFailedWarning)\n",
      "C:\\Anaconda\\lib\\site-packages\\sklearn\\model_selection\\_validation.py:552: FitFailedWarning: Estimator fit failed. The score on this train-test partition for these parameters will be set to nan. Details: \n",
      "Traceback (most recent call last):\n",
      "  File \"C:\\Anaconda\\lib\\site-packages\\sklearn\\model_selection\\_validation.py\", line 531, in _fit_and_score\n",
      "    estimator.fit(X_train, y_train, **fit_params)\n",
      "  File \"C:\\Anaconda\\lib\\site-packages\\sklearn\\linear_model\\_logistic.py\", line 1304, in fit\n",
      "    solver = _check_solver(self.solver, self.penalty, self.dual)\n",
      "  File \"C:\\Anaconda\\lib\\site-packages\\sklearn\\linear_model\\_logistic.py\", line 443, in _check_solver\n",
      "    \"got %s penalty.\" % (solver, penalty))\n",
      "ValueError: Solver lbfgs supports only 'l2' or 'none' penalties, got l1 penalty.\n",
      "\n",
      "  FitFailedWarning)\n",
      "C:\\Anaconda\\lib\\site-packages\\sklearn\\model_selection\\_validation.py:552: FitFailedWarning: Estimator fit failed. The score on this train-test partition for these parameters will be set to nan. Details: \n",
      "Traceback (most recent call last):\n",
      "  File \"C:\\Anaconda\\lib\\site-packages\\sklearn\\model_selection\\_validation.py\", line 531, in _fit_and_score\n",
      "    estimator.fit(X_train, y_train, **fit_params)\n",
      "  File \"C:\\Anaconda\\lib\\site-packages\\sklearn\\linear_model\\_logistic.py\", line 1304, in fit\n",
      "    solver = _check_solver(self.solver, self.penalty, self.dual)\n",
      "  File \"C:\\Anaconda\\lib\\site-packages\\sklearn\\linear_model\\_logistic.py\", line 443, in _check_solver\n",
      "    \"got %s penalty.\" % (solver, penalty))\n",
      "ValueError: Solver lbfgs supports only 'l2' or 'none' penalties, got l1 penalty.\n",
      "\n",
      "  FitFailedWarning)\n",
      "C:\\Anaconda\\lib\\site-packages\\sklearn\\model_selection\\_validation.py:552: FitFailedWarning: Estimator fit failed. The score on this train-test partition for these parameters will be set to nan. Details: \n",
      "Traceback (most recent call last):\n",
      "  File \"C:\\Anaconda\\lib\\site-packages\\sklearn\\model_selection\\_validation.py\", line 531, in _fit_and_score\n",
      "    estimator.fit(X_train, y_train, **fit_params)\n",
      "  File \"C:\\Anaconda\\lib\\site-packages\\sklearn\\linear_model\\_logistic.py\", line 1304, in fit\n",
      "    solver = _check_solver(self.solver, self.penalty, self.dual)\n",
      "  File \"C:\\Anaconda\\lib\\site-packages\\sklearn\\linear_model\\_logistic.py\", line 443, in _check_solver\n",
      "    \"got %s penalty.\" % (solver, penalty))\n",
      "ValueError: Solver lbfgs supports only 'l2' or 'none' penalties, got l1 penalty.\n",
      "\n",
      "  FitFailedWarning)\n",
      "C:\\Anaconda\\lib\\site-packages\\sklearn\\model_selection\\_validation.py:552: FitFailedWarning: Estimator fit failed. The score on this train-test partition for these parameters will be set to nan. Details: \n",
      "Traceback (most recent call last):\n",
      "  File \"C:\\Anaconda\\lib\\site-packages\\sklearn\\model_selection\\_validation.py\", line 531, in _fit_and_score\n",
      "    estimator.fit(X_train, y_train, **fit_params)\n",
      "  File \"C:\\Anaconda\\lib\\site-packages\\sklearn\\linear_model\\_logistic.py\", line 1304, in fit\n",
      "    solver = _check_solver(self.solver, self.penalty, self.dual)\n",
      "  File \"C:\\Anaconda\\lib\\site-packages\\sklearn\\linear_model\\_logistic.py\", line 443, in _check_solver\n",
      "    \"got %s penalty.\" % (solver, penalty))\n",
      "ValueError: Solver lbfgs supports only 'l2' or 'none' penalties, got l1 penalty.\n",
      "\n",
      "  FitFailedWarning)\n",
      "C:\\Anaconda\\lib\\site-packages\\sklearn\\model_selection\\_validation.py:552: FitFailedWarning: Estimator fit failed. The score on this train-test partition for these parameters will be set to nan. Details: \n",
      "Traceback (most recent call last):\n",
      "  File \"C:\\Anaconda\\lib\\site-packages\\sklearn\\model_selection\\_validation.py\", line 531, in _fit_and_score\n",
      "    estimator.fit(X_train, y_train, **fit_params)\n",
      "  File \"C:\\Anaconda\\lib\\site-packages\\sklearn\\linear_model\\_logistic.py\", line 1304, in fit\n",
      "    solver = _check_solver(self.solver, self.penalty, self.dual)\n",
      "  File \"C:\\Anaconda\\lib\\site-packages\\sklearn\\linear_model\\_logistic.py\", line 443, in _check_solver\n",
      "    \"got %s penalty.\" % (solver, penalty))\n",
      "ValueError: Solver lbfgs supports only 'l2' or 'none' penalties, got l1 penalty.\n",
      "\n",
      "  FitFailedWarning)\n",
      "C:\\Anaconda\\lib\\site-packages\\sklearn\\model_selection\\_validation.py:552: FitFailedWarning: Estimator fit failed. The score on this train-test partition for these parameters will be set to nan. Details: \n",
      "Traceback (most recent call last):\n",
      "  File \"C:\\Anaconda\\lib\\site-packages\\sklearn\\model_selection\\_validation.py\", line 531, in _fit_and_score\n",
      "    estimator.fit(X_train, y_train, **fit_params)\n",
      "  File \"C:\\Anaconda\\lib\\site-packages\\sklearn\\linear_model\\_logistic.py\", line 1304, in fit\n",
      "    solver = _check_solver(self.solver, self.penalty, self.dual)\n",
      "  File \"C:\\Anaconda\\lib\\site-packages\\sklearn\\linear_model\\_logistic.py\", line 443, in _check_solver\n",
      "    \"got %s penalty.\" % (solver, penalty))\n",
      "ValueError: Solver lbfgs supports only 'l2' or 'none' penalties, got l1 penalty.\n",
      "\n",
      "  FitFailedWarning)\n",
      "C:\\Anaconda\\lib\\site-packages\\sklearn\\model_selection\\_validation.py:552: FitFailedWarning: Estimator fit failed. The score on this train-test partition for these parameters will be set to nan. Details: \n",
      "Traceback (most recent call last):\n",
      "  File \"C:\\Anaconda\\lib\\site-packages\\sklearn\\model_selection\\_validation.py\", line 531, in _fit_and_score\n",
      "    estimator.fit(X_train, y_train, **fit_params)\n",
      "  File \"C:\\Anaconda\\lib\\site-packages\\sklearn\\linear_model\\_logistic.py\", line 1304, in fit\n",
      "    solver = _check_solver(self.solver, self.penalty, self.dual)\n",
      "  File \"C:\\Anaconda\\lib\\site-packages\\sklearn\\linear_model\\_logistic.py\", line 443, in _check_solver\n",
      "    \"got %s penalty.\" % (solver, penalty))\n",
      "ValueError: Solver lbfgs supports only 'l2' or 'none' penalties, got l1 penalty.\n",
      "\n",
      "  FitFailedWarning)\n",
      "C:\\Anaconda\\lib\\site-packages\\sklearn\\model_selection\\_validation.py:552: FitFailedWarning: Estimator fit failed. The score on this train-test partition for these parameters will be set to nan. Details: \n",
      "Traceback (most recent call last):\n",
      "  File \"C:\\Anaconda\\lib\\site-packages\\sklearn\\model_selection\\_validation.py\", line 531, in _fit_and_score\n",
      "    estimator.fit(X_train, y_train, **fit_params)\n",
      "  File \"C:\\Anaconda\\lib\\site-packages\\sklearn\\linear_model\\_logistic.py\", line 1304, in fit\n",
      "    solver = _check_solver(self.solver, self.penalty, self.dual)\n",
      "  File \"C:\\Anaconda\\lib\\site-packages\\sklearn\\linear_model\\_logistic.py\", line 443, in _check_solver\n",
      "    \"got %s penalty.\" % (solver, penalty))\n",
      "ValueError: Solver lbfgs supports only 'l2' or 'none' penalties, got l1 penalty.\n",
      "\n",
      "  FitFailedWarning)\n"
     ]
    },
    {
     "data": {
      "text/plain": [
       "GridSearchCV(cv=StratifiedShuffleSplit(n_splits=3, random_state=0, test_size=0.2,\n",
       "            train_size=None),\n",
       "             estimator=LogisticRegression(),\n",
       "             param_grid={'C': array([0.1, 0.2, 0.3, 0.4, 0.5, 0.6, 0.7, 0.8, 0.9]),\n",
       "                         'penalty': ['l1', 'l2']})"
      ]
     },
     "execution_count": 298,
     "metadata": {},
     "output_type": "execute_result"
    }
   ],
   "source": [
    "param_grid = {'C': np.arange(0.1, 1, 0.1),\n",
    "              'penalty':['l1', 'l2'],}\n",
    "cv = StratifiedShuffleSplit(n_splits = 3, test_size = 0.2, random_state = 0)\n",
    "optimizer = GridSearchCV(classifier, param_grid, cv=cv)\n",
    "optimizer.fit(train_new, y)"
   ]
  },
  {
   "cell_type": "code",
   "execution_count": 299,
   "metadata": {},
   "outputs": [
    {
     "name": "stdout",
     "output_type": "stream",
     "text": [
      "{'C': 0.30000000000000004, 'penalty': 'l2'}\n",
      "0.7849462365591396\n"
     ]
    }
   ],
   "source": [
    "print(optimizer.best_params_)\n",
    "print(optimizer.best_score_)"
   ]
  },
  {
   "cell_type": "code",
   "execution_count": 307,
   "metadata": {},
   "outputs": [
    {
     "data": {
      "text/plain": [
       "array(['ONSHORE', 'ONSHORE', 'ONSHORE', 'OFFSHORE', 'ONSHORE', 'ONSHORE',\n",
       "       'ONSHORE', 'ONSHORE', 'ONSHORE', 'OFFSHORE', 'OFFSHORE', 'ONSHORE',\n",
       "       'ONSHORE', 'ONSHORE', 'OFFSHORE', 'ONSHORE', 'ONSHORE', 'OFFSHORE',\n",
       "       'ONSHORE', 'OFFSHORE', 'ONSHORE', 'ONSHORE', 'ONSHORE', 'ONSHORE',\n",
       "       'ONSHORE', 'ONSHORE', 'ONSHORE', 'ONSHORE', 'ONSHORE', 'OFFSHORE',\n",
       "       'OFFSHORE', 'OFFSHORE', 'ONSHORE', 'OFFSHORE', 'ONSHORE',\n",
       "       'OFFSHORE', 'ONSHORE', 'ONSHORE', 'ONSHORE', 'ONSHORE', 'OFFSHORE',\n",
       "       'OFFSHORE', 'ONSHORE', 'ONSHORE', 'ONSHORE', 'ONSHORE', 'ONSHORE',\n",
       "       'ONSHORE', 'ONSHORE', 'ONSHORE', 'OFFSHORE', 'ONSHORE', 'ONSHORE',\n",
       "       'ONSHORE', 'ONSHORE', 'ONSHORE', 'ONSHORE', 'ONSHORE', 'ONSHORE',\n",
       "       'ONSHORE', 'ONSHORE', 'ONSHORE', 'ONSHORE', 'ONSHORE', 'ONSHORE',\n",
       "       'OFFSHORE', 'ONSHORE', 'OFFSHORE', 'ONSHORE', 'ONSHORE', 'ONSHORE',\n",
       "       'ONSHORE', 'ONSHORE', 'ONSHORE', 'ONSHORE', 'ONSHORE', 'ONSHORE',\n",
       "       'ONSHORE', 'OFFSHORE', 'ONSHORE', 'ONSHORE', 'OFFSHORE', 'ONSHORE',\n",
       "       'ONSHORE', 'ONSHORE', 'ONSHORE', 'OFFSHORE', 'OFFSHORE',\n",
       "       'OFFSHORE', 'ONSHORE', 'ONSHORE', 'ONSHORE', 'ONSHORE', 'ONSHORE',\n",
       "       'ONSHORE', 'OFFSHORE', 'ONSHORE', 'ONSHORE', 'ONSHORE', 'ONSHORE',\n",
       "       'OFFSHORE', 'ONSHORE', 'ONSHORE', 'ONSHORE', 'ONSHORE', 'ONSHORE',\n",
       "       'OFFSHORE', 'OFFSHORE', 'ONSHORE', 'ONSHORE', 'OFFSHORE',\n",
       "       'ONSHORE', 'ONSHORE', 'ONSHORE', 'ONSHORE', 'OFFSHORE', 'ONSHORE',\n",
       "       'ONSHORE', 'ONSHORE', 'ONSHORE', 'ONSHORE', 'ONSHORE', 'ONSHORE',\n",
       "       'OFFSHORE', 'ONSHORE', 'OFFSHORE', 'ONSHORE', 'ONSHORE',\n",
       "       'OFFSHORE', 'ONSHORE', 'ONSHORE', 'OFFSHORE', 'ONSHORE'],\n",
       "      dtype=object)"
      ]
     },
     "execution_count": 307,
     "metadata": {},
     "output_type": "execute_result"
    }
   ],
   "source": [
    "result1 = optimizer.predict(test_new)\n",
    "result1"
   ]
  },
  {
   "cell_type": "code",
   "execution_count": 309,
   "metadata": {},
   "outputs": [],
   "source": [
    "pd.DataFrame(result1).to_csv('ansver_1_log.csv', index=False, header=False)"
   ]
  },
  {
   "cell_type": "code",
   "execution_count": 306,
   "metadata": {},
   "outputs": [
    {
     "ename": "ValueError",
     "evalue": "could not convert string to float: 'ONSHORE'",
     "output_type": "error",
     "traceback": [
      "\u001b[1;31m---------------------------------------------------------------------------\u001b[0m",
      "\u001b[1;31mValueError\u001b[0m                                Traceback (most recent call last)",
      "\u001b[1;32m<ipython-input-306-bb1e37ed3779>\u001b[0m in \u001b[0;36m<module>\u001b[1;34m\u001b[0m\n\u001b[0;32m      3\u001b[0m \u001b[0mlog_classifier\u001b[0m \u001b[1;33m=\u001b[0m \u001b[0mLogisticRegression\u001b[0m\u001b[1;33m(\u001b[0m\u001b[0mC\u001b[0m\u001b[1;33m=\u001b[0m\u001b[1;36m0.3\u001b[0m\u001b[1;33m,\u001b[0m \u001b[0mpenalty\u001b[0m\u001b[1;33m=\u001b[0m\u001b[1;34m'l2'\u001b[0m\u001b[1;33m)\u001b[0m\u001b[1;33m\u001b[0m\u001b[1;33m\u001b[0m\u001b[0m\n\u001b[0;32m      4\u001b[0m \u001b[0mscore\u001b[0m \u001b[1;33m=\u001b[0m \u001b[0mmake_scorer\u001b[0m\u001b[1;33m(\u001b[0m\u001b[0mroc_auc_score\u001b[0m\u001b[1;33m)\u001b[0m\u001b[1;33m\u001b[0m\u001b[1;33m\u001b[0m\u001b[0m\n\u001b[1;32m----> 5\u001b[1;33m \u001b[0mcross_val_score\u001b[0m\u001b[1;33m(\u001b[0m\u001b[0mlog_classifier\u001b[0m\u001b[1;33m,\u001b[0m \u001b[0mtrain_new\u001b[0m\u001b[1;33m,\u001b[0m \u001b[0my\u001b[0m\u001b[1;33m,\u001b[0m \u001b[0mcv\u001b[0m\u001b[1;33m=\u001b[0m\u001b[0mcv\u001b[0m\u001b[1;33m,\u001b[0m \u001b[0mscoring\u001b[0m\u001b[1;33m=\u001b[0m\u001b[0mscore\u001b[0m\u001b[1;33m)\u001b[0m\u001b[1;33m\u001b[0m\u001b[1;33m\u001b[0m\u001b[0m\n\u001b[0m",
      "\u001b[1;32mC:\\Anaconda\\lib\\site-packages\\sklearn\\utils\\validation.py\u001b[0m in \u001b[0;36minner_f\u001b[1;34m(*args, **kwargs)\u001b[0m\n\u001b[0;32m     70\u001b[0m                           FutureWarning)\n\u001b[0;32m     71\u001b[0m         \u001b[0mkwargs\u001b[0m\u001b[1;33m.\u001b[0m\u001b[0mupdate\u001b[0m\u001b[1;33m(\u001b[0m\u001b[1;33m{\u001b[0m\u001b[0mk\u001b[0m\u001b[1;33m:\u001b[0m \u001b[0marg\u001b[0m \u001b[1;32mfor\u001b[0m \u001b[0mk\u001b[0m\u001b[1;33m,\u001b[0m \u001b[0marg\u001b[0m \u001b[1;32min\u001b[0m \u001b[0mzip\u001b[0m\u001b[1;33m(\u001b[0m\u001b[0msig\u001b[0m\u001b[1;33m.\u001b[0m\u001b[0mparameters\u001b[0m\u001b[1;33m,\u001b[0m \u001b[0margs\u001b[0m\u001b[1;33m)\u001b[0m\u001b[1;33m}\u001b[0m\u001b[1;33m)\u001b[0m\u001b[1;33m\u001b[0m\u001b[1;33m\u001b[0m\u001b[0m\n\u001b[1;32m---> 72\u001b[1;33m         \u001b[1;32mreturn\u001b[0m \u001b[0mf\u001b[0m\u001b[1;33m(\u001b[0m\u001b[1;33m**\u001b[0m\u001b[0mkwargs\u001b[0m\u001b[1;33m)\u001b[0m\u001b[1;33m\u001b[0m\u001b[1;33m\u001b[0m\u001b[0m\n\u001b[0m\u001b[0;32m     73\u001b[0m     \u001b[1;32mreturn\u001b[0m \u001b[0minner_f\u001b[0m\u001b[1;33m\u001b[0m\u001b[1;33m\u001b[0m\u001b[0m\n\u001b[0;32m     74\u001b[0m \u001b[1;33m\u001b[0m\u001b[0m\n",
      "\u001b[1;32mC:\\Anaconda\\lib\\site-packages\\sklearn\\model_selection\\_validation.py\u001b[0m in \u001b[0;36mcross_val_score\u001b[1;34m(estimator, X, y, groups, scoring, cv, n_jobs, verbose, fit_params, pre_dispatch, error_score)\u001b[0m\n\u001b[0;32m    404\u001b[0m                                 \u001b[0mfit_params\u001b[0m\u001b[1;33m=\u001b[0m\u001b[0mfit_params\u001b[0m\u001b[1;33m,\u001b[0m\u001b[1;33m\u001b[0m\u001b[1;33m\u001b[0m\u001b[0m\n\u001b[0;32m    405\u001b[0m                                 \u001b[0mpre_dispatch\u001b[0m\u001b[1;33m=\u001b[0m\u001b[0mpre_dispatch\u001b[0m\u001b[1;33m,\u001b[0m\u001b[1;33m\u001b[0m\u001b[1;33m\u001b[0m\u001b[0m\n\u001b[1;32m--> 406\u001b[1;33m                                 error_score=error_score)\n\u001b[0m\u001b[0;32m    407\u001b[0m     \u001b[1;32mreturn\u001b[0m \u001b[0mcv_results\u001b[0m\u001b[1;33m[\u001b[0m\u001b[1;34m'test_score'\u001b[0m\u001b[1;33m]\u001b[0m\u001b[1;33m\u001b[0m\u001b[1;33m\u001b[0m\u001b[0m\n\u001b[0;32m    408\u001b[0m \u001b[1;33m\u001b[0m\u001b[0m\n",
      "\u001b[1;32mC:\\Anaconda\\lib\\site-packages\\sklearn\\utils\\validation.py\u001b[0m in \u001b[0;36minner_f\u001b[1;34m(*args, **kwargs)\u001b[0m\n\u001b[0;32m     70\u001b[0m                           FutureWarning)\n\u001b[0;32m     71\u001b[0m         \u001b[0mkwargs\u001b[0m\u001b[1;33m.\u001b[0m\u001b[0mupdate\u001b[0m\u001b[1;33m(\u001b[0m\u001b[1;33m{\u001b[0m\u001b[0mk\u001b[0m\u001b[1;33m:\u001b[0m \u001b[0marg\u001b[0m \u001b[1;32mfor\u001b[0m \u001b[0mk\u001b[0m\u001b[1;33m,\u001b[0m \u001b[0marg\u001b[0m \u001b[1;32min\u001b[0m \u001b[0mzip\u001b[0m\u001b[1;33m(\u001b[0m\u001b[0msig\u001b[0m\u001b[1;33m.\u001b[0m\u001b[0mparameters\u001b[0m\u001b[1;33m,\u001b[0m \u001b[0margs\u001b[0m\u001b[1;33m)\u001b[0m\u001b[1;33m}\u001b[0m\u001b[1;33m)\u001b[0m\u001b[1;33m\u001b[0m\u001b[1;33m\u001b[0m\u001b[0m\n\u001b[1;32m---> 72\u001b[1;33m         \u001b[1;32mreturn\u001b[0m \u001b[0mf\u001b[0m\u001b[1;33m(\u001b[0m\u001b[1;33m**\u001b[0m\u001b[0mkwargs\u001b[0m\u001b[1;33m)\u001b[0m\u001b[1;33m\u001b[0m\u001b[1;33m\u001b[0m\u001b[0m\n\u001b[0m\u001b[0;32m     73\u001b[0m     \u001b[1;32mreturn\u001b[0m \u001b[0minner_f\u001b[0m\u001b[1;33m\u001b[0m\u001b[1;33m\u001b[0m\u001b[0m\n\u001b[0;32m     74\u001b[0m \u001b[1;33m\u001b[0m\u001b[0m\n",
      "\u001b[1;32mC:\\Anaconda\\lib\\site-packages\\sklearn\\model_selection\\_validation.py\u001b[0m in \u001b[0;36mcross_validate\u001b[1;34m(estimator, X, y, groups, scoring, cv, n_jobs, verbose, fit_params, pre_dispatch, return_train_score, return_estimator, error_score)\u001b[0m\n\u001b[0;32m    246\u001b[0m             \u001b[0mreturn_times\u001b[0m\u001b[1;33m=\u001b[0m\u001b[1;32mTrue\u001b[0m\u001b[1;33m,\u001b[0m \u001b[0mreturn_estimator\u001b[0m\u001b[1;33m=\u001b[0m\u001b[0mreturn_estimator\u001b[0m\u001b[1;33m,\u001b[0m\u001b[1;33m\u001b[0m\u001b[1;33m\u001b[0m\u001b[0m\n\u001b[0;32m    247\u001b[0m             error_score=error_score)\n\u001b[1;32m--> 248\u001b[1;33m         for train, test in cv.split(X, y, groups))\n\u001b[0m\u001b[0;32m    249\u001b[0m \u001b[1;33m\u001b[0m\u001b[0m\n\u001b[0;32m    250\u001b[0m     \u001b[0mzipped_scores\u001b[0m \u001b[1;33m=\u001b[0m \u001b[0mlist\u001b[0m\u001b[1;33m(\u001b[0m\u001b[0mzip\u001b[0m\u001b[1;33m(\u001b[0m\u001b[1;33m*\u001b[0m\u001b[0mscores\u001b[0m\u001b[1;33m)\u001b[0m\u001b[1;33m)\u001b[0m\u001b[1;33m\u001b[0m\u001b[1;33m\u001b[0m\u001b[0m\n",
      "\u001b[1;32mC:\\Anaconda\\lib\\site-packages\\joblib\\parallel.py\u001b[0m in \u001b[0;36m__call__\u001b[1;34m(self, iterable)\u001b[0m\n\u001b[0;32m   1046\u001b[0m             \u001b[1;31m# remaining jobs.\u001b[0m\u001b[1;33m\u001b[0m\u001b[1;33m\u001b[0m\u001b[1;33m\u001b[0m\u001b[0m\n\u001b[0;32m   1047\u001b[0m             \u001b[0mself\u001b[0m\u001b[1;33m.\u001b[0m\u001b[0m_iterating\u001b[0m \u001b[1;33m=\u001b[0m \u001b[1;32mFalse\u001b[0m\u001b[1;33m\u001b[0m\u001b[1;33m\u001b[0m\u001b[0m\n\u001b[1;32m-> 1048\u001b[1;33m             \u001b[1;32mif\u001b[0m \u001b[0mself\u001b[0m\u001b[1;33m.\u001b[0m\u001b[0mdispatch_one_batch\u001b[0m\u001b[1;33m(\u001b[0m\u001b[0miterator\u001b[0m\u001b[1;33m)\u001b[0m\u001b[1;33m:\u001b[0m\u001b[1;33m\u001b[0m\u001b[1;33m\u001b[0m\u001b[0m\n\u001b[0m\u001b[0;32m   1049\u001b[0m                 \u001b[0mself\u001b[0m\u001b[1;33m.\u001b[0m\u001b[0m_iterating\u001b[0m \u001b[1;33m=\u001b[0m \u001b[0mself\u001b[0m\u001b[1;33m.\u001b[0m\u001b[0m_original_iterator\u001b[0m \u001b[1;32mis\u001b[0m \u001b[1;32mnot\u001b[0m \u001b[1;32mNone\u001b[0m\u001b[1;33m\u001b[0m\u001b[1;33m\u001b[0m\u001b[0m\n\u001b[0;32m   1050\u001b[0m \u001b[1;33m\u001b[0m\u001b[0m\n",
      "\u001b[1;32mC:\\Anaconda\\lib\\site-packages\\joblib\\parallel.py\u001b[0m in \u001b[0;36mdispatch_one_batch\u001b[1;34m(self, iterator)\u001b[0m\n\u001b[0;32m    864\u001b[0m                 \u001b[1;32mreturn\u001b[0m \u001b[1;32mFalse\u001b[0m\u001b[1;33m\u001b[0m\u001b[1;33m\u001b[0m\u001b[0m\n\u001b[0;32m    865\u001b[0m             \u001b[1;32melse\u001b[0m\u001b[1;33m:\u001b[0m\u001b[1;33m\u001b[0m\u001b[1;33m\u001b[0m\u001b[0m\n\u001b[1;32m--> 866\u001b[1;33m                 \u001b[0mself\u001b[0m\u001b[1;33m.\u001b[0m\u001b[0m_dispatch\u001b[0m\u001b[1;33m(\u001b[0m\u001b[0mtasks\u001b[0m\u001b[1;33m)\u001b[0m\u001b[1;33m\u001b[0m\u001b[1;33m\u001b[0m\u001b[0m\n\u001b[0m\u001b[0;32m    867\u001b[0m                 \u001b[1;32mreturn\u001b[0m \u001b[1;32mTrue\u001b[0m\u001b[1;33m\u001b[0m\u001b[1;33m\u001b[0m\u001b[0m\n\u001b[0;32m    868\u001b[0m \u001b[1;33m\u001b[0m\u001b[0m\n",
      "\u001b[1;32mC:\\Anaconda\\lib\\site-packages\\joblib\\parallel.py\u001b[0m in \u001b[0;36m_dispatch\u001b[1;34m(self, batch)\u001b[0m\n\u001b[0;32m    782\u001b[0m         \u001b[1;32mwith\u001b[0m \u001b[0mself\u001b[0m\u001b[1;33m.\u001b[0m\u001b[0m_lock\u001b[0m\u001b[1;33m:\u001b[0m\u001b[1;33m\u001b[0m\u001b[1;33m\u001b[0m\u001b[0m\n\u001b[0;32m    783\u001b[0m             \u001b[0mjob_idx\u001b[0m \u001b[1;33m=\u001b[0m \u001b[0mlen\u001b[0m\u001b[1;33m(\u001b[0m\u001b[0mself\u001b[0m\u001b[1;33m.\u001b[0m\u001b[0m_jobs\u001b[0m\u001b[1;33m)\u001b[0m\u001b[1;33m\u001b[0m\u001b[1;33m\u001b[0m\u001b[0m\n\u001b[1;32m--> 784\u001b[1;33m             \u001b[0mjob\u001b[0m \u001b[1;33m=\u001b[0m \u001b[0mself\u001b[0m\u001b[1;33m.\u001b[0m\u001b[0m_backend\u001b[0m\u001b[1;33m.\u001b[0m\u001b[0mapply_async\u001b[0m\u001b[1;33m(\u001b[0m\u001b[0mbatch\u001b[0m\u001b[1;33m,\u001b[0m \u001b[0mcallback\u001b[0m\u001b[1;33m=\u001b[0m\u001b[0mcb\u001b[0m\u001b[1;33m)\u001b[0m\u001b[1;33m\u001b[0m\u001b[1;33m\u001b[0m\u001b[0m\n\u001b[0m\u001b[0;32m    785\u001b[0m             \u001b[1;31m# A job can complete so quickly than its callback is\u001b[0m\u001b[1;33m\u001b[0m\u001b[1;33m\u001b[0m\u001b[1;33m\u001b[0m\u001b[0m\n\u001b[0;32m    786\u001b[0m             \u001b[1;31m# called before we get here, causing self._jobs to\u001b[0m\u001b[1;33m\u001b[0m\u001b[1;33m\u001b[0m\u001b[1;33m\u001b[0m\u001b[0m\n",
      "\u001b[1;32mC:\\Anaconda\\lib\\site-packages\\joblib\\_parallel_backends.py\u001b[0m in \u001b[0;36mapply_async\u001b[1;34m(self, func, callback)\u001b[0m\n\u001b[0;32m    206\u001b[0m     \u001b[1;32mdef\u001b[0m \u001b[0mapply_async\u001b[0m\u001b[1;33m(\u001b[0m\u001b[0mself\u001b[0m\u001b[1;33m,\u001b[0m \u001b[0mfunc\u001b[0m\u001b[1;33m,\u001b[0m \u001b[0mcallback\u001b[0m\u001b[1;33m=\u001b[0m\u001b[1;32mNone\u001b[0m\u001b[1;33m)\u001b[0m\u001b[1;33m:\u001b[0m\u001b[1;33m\u001b[0m\u001b[1;33m\u001b[0m\u001b[0m\n\u001b[0;32m    207\u001b[0m         \u001b[1;34m\"\"\"Schedule a func to be run\"\"\"\u001b[0m\u001b[1;33m\u001b[0m\u001b[1;33m\u001b[0m\u001b[0m\n\u001b[1;32m--> 208\u001b[1;33m         \u001b[0mresult\u001b[0m \u001b[1;33m=\u001b[0m \u001b[0mImmediateResult\u001b[0m\u001b[1;33m(\u001b[0m\u001b[0mfunc\u001b[0m\u001b[1;33m)\u001b[0m\u001b[1;33m\u001b[0m\u001b[1;33m\u001b[0m\u001b[0m\n\u001b[0m\u001b[0;32m    209\u001b[0m         \u001b[1;32mif\u001b[0m \u001b[0mcallback\u001b[0m\u001b[1;33m:\u001b[0m\u001b[1;33m\u001b[0m\u001b[1;33m\u001b[0m\u001b[0m\n\u001b[0;32m    210\u001b[0m             \u001b[0mcallback\u001b[0m\u001b[1;33m(\u001b[0m\u001b[0mresult\u001b[0m\u001b[1;33m)\u001b[0m\u001b[1;33m\u001b[0m\u001b[1;33m\u001b[0m\u001b[0m\n",
      "\u001b[1;32mC:\\Anaconda\\lib\\site-packages\\joblib\\_parallel_backends.py\u001b[0m in \u001b[0;36m__init__\u001b[1;34m(self, batch)\u001b[0m\n\u001b[0;32m    570\u001b[0m         \u001b[1;31m# Don't delay the application, to avoid keeping the input\u001b[0m\u001b[1;33m\u001b[0m\u001b[1;33m\u001b[0m\u001b[1;33m\u001b[0m\u001b[0m\n\u001b[0;32m    571\u001b[0m         \u001b[1;31m# arguments in memory\u001b[0m\u001b[1;33m\u001b[0m\u001b[1;33m\u001b[0m\u001b[1;33m\u001b[0m\u001b[0m\n\u001b[1;32m--> 572\u001b[1;33m         \u001b[0mself\u001b[0m\u001b[1;33m.\u001b[0m\u001b[0mresults\u001b[0m \u001b[1;33m=\u001b[0m \u001b[0mbatch\u001b[0m\u001b[1;33m(\u001b[0m\u001b[1;33m)\u001b[0m\u001b[1;33m\u001b[0m\u001b[1;33m\u001b[0m\u001b[0m\n\u001b[0m\u001b[0;32m    573\u001b[0m \u001b[1;33m\u001b[0m\u001b[0m\n\u001b[0;32m    574\u001b[0m     \u001b[1;32mdef\u001b[0m \u001b[0mget\u001b[0m\u001b[1;33m(\u001b[0m\u001b[0mself\u001b[0m\u001b[1;33m)\u001b[0m\u001b[1;33m:\u001b[0m\u001b[1;33m\u001b[0m\u001b[1;33m\u001b[0m\u001b[0m\n",
      "\u001b[1;32mC:\\Anaconda\\lib\\site-packages\\joblib\\parallel.py\u001b[0m in \u001b[0;36m__call__\u001b[1;34m(self)\u001b[0m\n\u001b[0;32m    261\u001b[0m         \u001b[1;32mwith\u001b[0m \u001b[0mparallel_backend\u001b[0m\u001b[1;33m(\u001b[0m\u001b[0mself\u001b[0m\u001b[1;33m.\u001b[0m\u001b[0m_backend\u001b[0m\u001b[1;33m,\u001b[0m \u001b[0mn_jobs\u001b[0m\u001b[1;33m=\u001b[0m\u001b[0mself\u001b[0m\u001b[1;33m.\u001b[0m\u001b[0m_n_jobs\u001b[0m\u001b[1;33m)\u001b[0m\u001b[1;33m:\u001b[0m\u001b[1;33m\u001b[0m\u001b[1;33m\u001b[0m\u001b[0m\n\u001b[0;32m    262\u001b[0m             return [func(*args, **kwargs)\n\u001b[1;32m--> 263\u001b[1;33m                     for func, args, kwargs in self.items]\n\u001b[0m\u001b[0;32m    264\u001b[0m \u001b[1;33m\u001b[0m\u001b[0m\n\u001b[0;32m    265\u001b[0m     \u001b[1;32mdef\u001b[0m \u001b[0m__reduce__\u001b[0m\u001b[1;33m(\u001b[0m\u001b[0mself\u001b[0m\u001b[1;33m)\u001b[0m\u001b[1;33m:\u001b[0m\u001b[1;33m\u001b[0m\u001b[1;33m\u001b[0m\u001b[0m\n",
      "\u001b[1;32mC:\\Anaconda\\lib\\site-packages\\joblib\\parallel.py\u001b[0m in \u001b[0;36m<listcomp>\u001b[1;34m(.0)\u001b[0m\n\u001b[0;32m    261\u001b[0m         \u001b[1;32mwith\u001b[0m \u001b[0mparallel_backend\u001b[0m\u001b[1;33m(\u001b[0m\u001b[0mself\u001b[0m\u001b[1;33m.\u001b[0m\u001b[0m_backend\u001b[0m\u001b[1;33m,\u001b[0m \u001b[0mn_jobs\u001b[0m\u001b[1;33m=\u001b[0m\u001b[0mself\u001b[0m\u001b[1;33m.\u001b[0m\u001b[0m_n_jobs\u001b[0m\u001b[1;33m)\u001b[0m\u001b[1;33m:\u001b[0m\u001b[1;33m\u001b[0m\u001b[1;33m\u001b[0m\u001b[0m\n\u001b[0;32m    262\u001b[0m             return [func(*args, **kwargs)\n\u001b[1;32m--> 263\u001b[1;33m                     for func, args, kwargs in self.items]\n\u001b[0m\u001b[0;32m    264\u001b[0m \u001b[1;33m\u001b[0m\u001b[0m\n\u001b[0;32m    265\u001b[0m     \u001b[1;32mdef\u001b[0m \u001b[0m__reduce__\u001b[0m\u001b[1;33m(\u001b[0m\u001b[0mself\u001b[0m\u001b[1;33m)\u001b[0m\u001b[1;33m:\u001b[0m\u001b[1;33m\u001b[0m\u001b[1;33m\u001b[0m\u001b[0m\n",
      "\u001b[1;32mC:\\Anaconda\\lib\\site-packages\\sklearn\\model_selection\\_validation.py\u001b[0m in \u001b[0;36m_fit_and_score\u001b[1;34m(estimator, X, y, scorer, train, test, verbose, parameters, fit_params, return_train_score, return_parameters, return_n_test_samples, return_times, return_estimator, error_score)\u001b[0m\n\u001b[0;32m    558\u001b[0m     \u001b[1;32melse\u001b[0m\u001b[1;33m:\u001b[0m\u001b[1;33m\u001b[0m\u001b[1;33m\u001b[0m\u001b[0m\n\u001b[0;32m    559\u001b[0m         \u001b[0mfit_time\u001b[0m \u001b[1;33m=\u001b[0m \u001b[0mtime\u001b[0m\u001b[1;33m.\u001b[0m\u001b[0mtime\u001b[0m\u001b[1;33m(\u001b[0m\u001b[1;33m)\u001b[0m \u001b[1;33m-\u001b[0m \u001b[0mstart_time\u001b[0m\u001b[1;33m\u001b[0m\u001b[1;33m\u001b[0m\u001b[0m\n\u001b[1;32m--> 560\u001b[1;33m         \u001b[0mtest_scores\u001b[0m \u001b[1;33m=\u001b[0m \u001b[0m_score\u001b[0m\u001b[1;33m(\u001b[0m\u001b[0mestimator\u001b[0m\u001b[1;33m,\u001b[0m \u001b[0mX_test\u001b[0m\u001b[1;33m,\u001b[0m \u001b[0my_test\u001b[0m\u001b[1;33m,\u001b[0m \u001b[0mscorer\u001b[0m\u001b[1;33m)\u001b[0m\u001b[1;33m\u001b[0m\u001b[1;33m\u001b[0m\u001b[0m\n\u001b[0m\u001b[0;32m    561\u001b[0m         \u001b[0mscore_time\u001b[0m \u001b[1;33m=\u001b[0m \u001b[0mtime\u001b[0m\u001b[1;33m.\u001b[0m\u001b[0mtime\u001b[0m\u001b[1;33m(\u001b[0m\u001b[1;33m)\u001b[0m \u001b[1;33m-\u001b[0m \u001b[0mstart_time\u001b[0m \u001b[1;33m-\u001b[0m \u001b[0mfit_time\u001b[0m\u001b[1;33m\u001b[0m\u001b[1;33m\u001b[0m\u001b[0m\n\u001b[0;32m    562\u001b[0m         \u001b[1;32mif\u001b[0m \u001b[0mreturn_train_score\u001b[0m\u001b[1;33m:\u001b[0m\u001b[1;33m\u001b[0m\u001b[1;33m\u001b[0m\u001b[0m\n",
      "\u001b[1;32mC:\\Anaconda\\lib\\site-packages\\sklearn\\model_selection\\_validation.py\u001b[0m in \u001b[0;36m_score\u001b[1;34m(estimator, X_test, y_test, scorer)\u001b[0m\n\u001b[0;32m    605\u001b[0m         \u001b[0mscores\u001b[0m \u001b[1;33m=\u001b[0m \u001b[0mscorer\u001b[0m\u001b[1;33m(\u001b[0m\u001b[0mestimator\u001b[0m\u001b[1;33m,\u001b[0m \u001b[0mX_test\u001b[0m\u001b[1;33m)\u001b[0m\u001b[1;33m\u001b[0m\u001b[1;33m\u001b[0m\u001b[0m\n\u001b[0;32m    606\u001b[0m     \u001b[1;32melse\u001b[0m\u001b[1;33m:\u001b[0m\u001b[1;33m\u001b[0m\u001b[1;33m\u001b[0m\u001b[0m\n\u001b[1;32m--> 607\u001b[1;33m         \u001b[0mscores\u001b[0m \u001b[1;33m=\u001b[0m \u001b[0mscorer\u001b[0m\u001b[1;33m(\u001b[0m\u001b[0mestimator\u001b[0m\u001b[1;33m,\u001b[0m \u001b[0mX_test\u001b[0m\u001b[1;33m,\u001b[0m \u001b[0my_test\u001b[0m\u001b[1;33m)\u001b[0m\u001b[1;33m\u001b[0m\u001b[1;33m\u001b[0m\u001b[0m\n\u001b[0m\u001b[0;32m    608\u001b[0m \u001b[1;33m\u001b[0m\u001b[0m\n\u001b[0;32m    609\u001b[0m     error_msg = (\"scoring must return a number, got %s (%s) \"\n",
      "\u001b[1;32mC:\\Anaconda\\lib\\site-packages\\sklearn\\metrics\\_scorer.py\u001b[0m in \u001b[0;36m__call__\u001b[1;34m(self, estimator, *args, **kwargs)\u001b[0m\n\u001b[0;32m     86\u001b[0m             \u001b[1;32mif\u001b[0m \u001b[0misinstance\u001b[0m\u001b[1;33m(\u001b[0m\u001b[0mscorer\u001b[0m\u001b[1;33m,\u001b[0m \u001b[0m_BaseScorer\u001b[0m\u001b[1;33m)\u001b[0m\u001b[1;33m:\u001b[0m\u001b[1;33m\u001b[0m\u001b[1;33m\u001b[0m\u001b[0m\n\u001b[0;32m     87\u001b[0m                 score = scorer._score(cached_call, estimator,\n\u001b[1;32m---> 88\u001b[1;33m                                       *args, **kwargs)\n\u001b[0m\u001b[0;32m     89\u001b[0m             \u001b[1;32melse\u001b[0m\u001b[1;33m:\u001b[0m\u001b[1;33m\u001b[0m\u001b[1;33m\u001b[0m\u001b[0m\n\u001b[0;32m     90\u001b[0m                 \u001b[0mscore\u001b[0m \u001b[1;33m=\u001b[0m \u001b[0mscorer\u001b[0m\u001b[1;33m(\u001b[0m\u001b[0mestimator\u001b[0m\u001b[1;33m,\u001b[0m \u001b[1;33m*\u001b[0m\u001b[0margs\u001b[0m\u001b[1;33m,\u001b[0m \u001b[1;33m**\u001b[0m\u001b[0mkwargs\u001b[0m\u001b[1;33m)\u001b[0m\u001b[1;33m\u001b[0m\u001b[1;33m\u001b[0m\u001b[0m\n",
      "\u001b[1;32mC:\\Anaconda\\lib\\site-packages\\sklearn\\metrics\\_scorer.py\u001b[0m in \u001b[0;36m_score\u001b[1;34m(self, method_caller, estimator, X, y_true, sample_weight)\u001b[0m\n\u001b[0;32m    211\u001b[0m         \u001b[1;32melse\u001b[0m\u001b[1;33m:\u001b[0m\u001b[1;33m\u001b[0m\u001b[1;33m\u001b[0m\u001b[0m\n\u001b[0;32m    212\u001b[0m             return self._sign * self._score_func(y_true, y_pred,\n\u001b[1;32m--> 213\u001b[1;33m                                                  **self._kwargs)\n\u001b[0m\u001b[0;32m    214\u001b[0m \u001b[1;33m\u001b[0m\u001b[0m\n\u001b[0;32m    215\u001b[0m \u001b[1;33m\u001b[0m\u001b[0m\n",
      "\u001b[1;32mC:\\Anaconda\\lib\\site-packages\\sklearn\\utils\\validation.py\u001b[0m in \u001b[0;36minner_f\u001b[1;34m(*args, **kwargs)\u001b[0m\n\u001b[0;32m     70\u001b[0m                           FutureWarning)\n\u001b[0;32m     71\u001b[0m         \u001b[0mkwargs\u001b[0m\u001b[1;33m.\u001b[0m\u001b[0mupdate\u001b[0m\u001b[1;33m(\u001b[0m\u001b[1;33m{\u001b[0m\u001b[0mk\u001b[0m\u001b[1;33m:\u001b[0m \u001b[0marg\u001b[0m \u001b[1;32mfor\u001b[0m \u001b[0mk\u001b[0m\u001b[1;33m,\u001b[0m \u001b[0marg\u001b[0m \u001b[1;32min\u001b[0m \u001b[0mzip\u001b[0m\u001b[1;33m(\u001b[0m\u001b[0msig\u001b[0m\u001b[1;33m.\u001b[0m\u001b[0mparameters\u001b[0m\u001b[1;33m,\u001b[0m \u001b[0margs\u001b[0m\u001b[1;33m)\u001b[0m\u001b[1;33m}\u001b[0m\u001b[1;33m)\u001b[0m\u001b[1;33m\u001b[0m\u001b[1;33m\u001b[0m\u001b[0m\n\u001b[1;32m---> 72\u001b[1;33m         \u001b[1;32mreturn\u001b[0m \u001b[0mf\u001b[0m\u001b[1;33m(\u001b[0m\u001b[1;33m**\u001b[0m\u001b[0mkwargs\u001b[0m\u001b[1;33m)\u001b[0m\u001b[1;33m\u001b[0m\u001b[1;33m\u001b[0m\u001b[0m\n\u001b[0m\u001b[0;32m     73\u001b[0m     \u001b[1;32mreturn\u001b[0m \u001b[0minner_f\u001b[0m\u001b[1;33m\u001b[0m\u001b[1;33m\u001b[0m\u001b[0m\n\u001b[0;32m     74\u001b[0m \u001b[1;33m\u001b[0m\u001b[0m\n",
      "\u001b[1;32mC:\\Anaconda\\lib\\site-packages\\sklearn\\metrics\\_ranking.py\u001b[0m in \u001b[0;36mroc_auc_score\u001b[1;34m(y_true, y_score, average, sample_weight, max_fpr, multi_class, labels)\u001b[0m\n\u001b[0;32m    370\u001b[0m     \u001b[0my_type\u001b[0m \u001b[1;33m=\u001b[0m \u001b[0mtype_of_target\u001b[0m\u001b[1;33m(\u001b[0m\u001b[0my_true\u001b[0m\u001b[1;33m)\u001b[0m\u001b[1;33m\u001b[0m\u001b[1;33m\u001b[0m\u001b[0m\n\u001b[0;32m    371\u001b[0m     \u001b[0my_true\u001b[0m \u001b[1;33m=\u001b[0m \u001b[0mcheck_array\u001b[0m\u001b[1;33m(\u001b[0m\u001b[0my_true\u001b[0m\u001b[1;33m,\u001b[0m \u001b[0mensure_2d\u001b[0m\u001b[1;33m=\u001b[0m\u001b[1;32mFalse\u001b[0m\u001b[1;33m,\u001b[0m \u001b[0mdtype\u001b[0m\u001b[1;33m=\u001b[0m\u001b[1;32mNone\u001b[0m\u001b[1;33m)\u001b[0m\u001b[1;33m\u001b[0m\u001b[1;33m\u001b[0m\u001b[0m\n\u001b[1;32m--> 372\u001b[1;33m     \u001b[0my_score\u001b[0m \u001b[1;33m=\u001b[0m \u001b[0mcheck_array\u001b[0m\u001b[1;33m(\u001b[0m\u001b[0my_score\u001b[0m\u001b[1;33m,\u001b[0m \u001b[0mensure_2d\u001b[0m\u001b[1;33m=\u001b[0m\u001b[1;32mFalse\u001b[0m\u001b[1;33m)\u001b[0m\u001b[1;33m\u001b[0m\u001b[1;33m\u001b[0m\u001b[0m\n\u001b[0m\u001b[0;32m    373\u001b[0m \u001b[1;33m\u001b[0m\u001b[0m\n\u001b[0;32m    374\u001b[0m     if y_type == \"multiclass\" or (y_type == \"binary\" and\n",
      "\u001b[1;32mC:\\Anaconda\\lib\\site-packages\\sklearn\\utils\\validation.py\u001b[0m in \u001b[0;36minner_f\u001b[1;34m(*args, **kwargs)\u001b[0m\n\u001b[0;32m     70\u001b[0m                           FutureWarning)\n\u001b[0;32m     71\u001b[0m         \u001b[0mkwargs\u001b[0m\u001b[1;33m.\u001b[0m\u001b[0mupdate\u001b[0m\u001b[1;33m(\u001b[0m\u001b[1;33m{\u001b[0m\u001b[0mk\u001b[0m\u001b[1;33m:\u001b[0m \u001b[0marg\u001b[0m \u001b[1;32mfor\u001b[0m \u001b[0mk\u001b[0m\u001b[1;33m,\u001b[0m \u001b[0marg\u001b[0m \u001b[1;32min\u001b[0m \u001b[0mzip\u001b[0m\u001b[1;33m(\u001b[0m\u001b[0msig\u001b[0m\u001b[1;33m.\u001b[0m\u001b[0mparameters\u001b[0m\u001b[1;33m,\u001b[0m \u001b[0margs\u001b[0m\u001b[1;33m)\u001b[0m\u001b[1;33m}\u001b[0m\u001b[1;33m)\u001b[0m\u001b[1;33m\u001b[0m\u001b[1;33m\u001b[0m\u001b[0m\n\u001b[1;32m---> 72\u001b[1;33m         \u001b[1;32mreturn\u001b[0m \u001b[0mf\u001b[0m\u001b[1;33m(\u001b[0m\u001b[1;33m**\u001b[0m\u001b[0mkwargs\u001b[0m\u001b[1;33m)\u001b[0m\u001b[1;33m\u001b[0m\u001b[1;33m\u001b[0m\u001b[0m\n\u001b[0m\u001b[0;32m     73\u001b[0m     \u001b[1;32mreturn\u001b[0m \u001b[0minner_f\u001b[0m\u001b[1;33m\u001b[0m\u001b[1;33m\u001b[0m\u001b[0m\n\u001b[0;32m     74\u001b[0m \u001b[1;33m\u001b[0m\u001b[0m\n",
      "\u001b[1;32mC:\\Anaconda\\lib\\site-packages\\sklearn\\utils\\validation.py\u001b[0m in \u001b[0;36mcheck_array\u001b[1;34m(array, accept_sparse, accept_large_sparse, dtype, order, copy, force_all_finite, ensure_2d, allow_nd, ensure_min_samples, ensure_min_features, estimator)\u001b[0m\n\u001b[0;32m    596\u001b[0m                     \u001b[0marray\u001b[0m \u001b[1;33m=\u001b[0m \u001b[0marray\u001b[0m\u001b[1;33m.\u001b[0m\u001b[0mastype\u001b[0m\u001b[1;33m(\u001b[0m\u001b[0mdtype\u001b[0m\u001b[1;33m,\u001b[0m \u001b[0mcasting\u001b[0m\u001b[1;33m=\u001b[0m\u001b[1;34m\"unsafe\"\u001b[0m\u001b[1;33m,\u001b[0m \u001b[0mcopy\u001b[0m\u001b[1;33m=\u001b[0m\u001b[1;32mFalse\u001b[0m\u001b[1;33m)\u001b[0m\u001b[1;33m\u001b[0m\u001b[1;33m\u001b[0m\u001b[0m\n\u001b[0;32m    597\u001b[0m                 \u001b[1;32melse\u001b[0m\u001b[1;33m:\u001b[0m\u001b[1;33m\u001b[0m\u001b[1;33m\u001b[0m\u001b[0m\n\u001b[1;32m--> 598\u001b[1;33m                     \u001b[0marray\u001b[0m \u001b[1;33m=\u001b[0m \u001b[0mnp\u001b[0m\u001b[1;33m.\u001b[0m\u001b[0masarray\u001b[0m\u001b[1;33m(\u001b[0m\u001b[0marray\u001b[0m\u001b[1;33m,\u001b[0m \u001b[0morder\u001b[0m\u001b[1;33m=\u001b[0m\u001b[0morder\u001b[0m\u001b[1;33m,\u001b[0m \u001b[0mdtype\u001b[0m\u001b[1;33m=\u001b[0m\u001b[0mdtype\u001b[0m\u001b[1;33m)\u001b[0m\u001b[1;33m\u001b[0m\u001b[1;33m\u001b[0m\u001b[0m\n\u001b[0m\u001b[0;32m    599\u001b[0m             \u001b[1;32mexcept\u001b[0m \u001b[0mComplexWarning\u001b[0m\u001b[1;33m:\u001b[0m\u001b[1;33m\u001b[0m\u001b[1;33m\u001b[0m\u001b[0m\n\u001b[0;32m    600\u001b[0m                 raise ValueError(\"Complex data not supported\\n\"\n",
      "\u001b[1;32mC:\\Anaconda\\lib\\site-packages\\numpy\\core\\_asarray.py\u001b[0m in \u001b[0;36masarray\u001b[1;34m(a, dtype, order)\u001b[0m\n\u001b[0;32m     81\u001b[0m \u001b[1;33m\u001b[0m\u001b[0m\n\u001b[0;32m     82\u001b[0m     \"\"\"\n\u001b[1;32m---> 83\u001b[1;33m     \u001b[1;32mreturn\u001b[0m \u001b[0marray\u001b[0m\u001b[1;33m(\u001b[0m\u001b[0ma\u001b[0m\u001b[1;33m,\u001b[0m \u001b[0mdtype\u001b[0m\u001b[1;33m,\u001b[0m \u001b[0mcopy\u001b[0m\u001b[1;33m=\u001b[0m\u001b[1;32mFalse\u001b[0m\u001b[1;33m,\u001b[0m \u001b[0morder\u001b[0m\u001b[1;33m=\u001b[0m\u001b[0morder\u001b[0m\u001b[1;33m)\u001b[0m\u001b[1;33m\u001b[0m\u001b[1;33m\u001b[0m\u001b[0m\n\u001b[0m\u001b[0;32m     84\u001b[0m \u001b[1;33m\u001b[0m\u001b[0m\n\u001b[0;32m     85\u001b[0m \u001b[1;33m\u001b[0m\u001b[0m\n",
      "\u001b[1;31mValueError\u001b[0m: could not convert string to float: 'ONSHORE'"
     ]
    }
   ],
   "source": [
    "from sklearn.model_selection import cross_val_score\n",
    "from sklearn.metrics import roc_auc_score, make_scorer\n",
    "log_classifier = LogisticRegression(C=0.3, penalty='l2')\n",
    "score = make_scorer(roc_auc_score)\n",
    "cross_val_score(log_classifier, train_new, y, cv=cv, scoring=score)"
   ]
  },
  {
   "cell_type": "code",
   "execution_count": null,
   "metadata": {},
   "outputs": [],
   "source": [
    "result1 = optimizer.predict(test_new)"
   ]
  },
  {
   "cell_type": "markdown",
   "metadata": {},
   "source": [
    "## XGBoost"
   ]
  },
  {
   "cell_type": "code",
   "execution_count": 359,
   "metadata": {},
   "outputs": [],
   "source": [
    "import xgboost as xgb\n",
    "from sklearn.metrics import accuracy_score"
   ]
  },
  {
   "cell_type": "code",
   "execution_count": 355,
   "metadata": {},
   "outputs": [],
   "source": [
    "estimator = xgb.XGBClassifier(learning_rate=0.1, scoring='roc_auc')\n",
    "param_grid = {'n_estimators': range(70, 90, 5),\n",
    "              'max_depth':[10, 5, 30],\n",
    "              'min_child_weight':range(1, 10, 2)}\n",
    "optimizer = GridSearchCV(estimator, param_grid, cv=3, n_jobs=5)"
   ]
  },
  {
   "cell_type": "code",
   "execution_count": 356,
   "metadata": {},
   "outputs": [
    {
     "data": {
      "text/plain": [
       "GridSearchCV(cv=3, estimator=XGBClassifier(scoring='roc_auc'), n_jobs=5,\n",
       "             param_grid={'max_depth': [10, 5, 30],\n",
       "                         'min_child_weight': range(1, 10, 2),\n",
       "                         'n_estimators': range(70, 90, 5)})"
      ]
     },
     "execution_count": 356,
     "metadata": {},
     "output_type": "execute_result"
    }
   ],
   "source": [
    "optimizer.fit(train_new, y)"
   ]
  },
  {
   "cell_type": "code",
   "execution_count": 360,
   "metadata": {},
   "outputs": [
    {
     "name": "stdout",
     "output_type": "stream",
     "text": [
      "{'max_depth': 10, 'min_child_weight': 3, 'n_estimators': 70}\n",
      "0.8187702265372168\n"
     ]
    }
   ],
   "source": [
    "print(optimizer.best_params_)\n",
    "print(optimizer.best_score_)"
   ]
  },
  {
   "cell_type": "code",
   "execution_count": 362,
   "metadata": {},
   "outputs": [
    {
     "data": {
      "text/plain": [
       "0.9935275080906149"
      ]
     },
     "execution_count": 362,
     "metadata": {},
     "output_type": "execute_result"
    }
   ],
   "source": [
    "accuracy_score(y, optimizer.predict(train_new))"
   ]
  },
  {
   "cell_type": "code",
   "execution_count": 363,
   "metadata": {},
   "outputs": [],
   "source": [
    "predict2 = pd.DataFrame(optimizer.predict(test_new))"
   ]
  },
  {
   "cell_type": "code",
   "execution_count": 364,
   "metadata": {},
   "outputs": [
    {
     "data": {
      "text/plain": [
       "array(['ONSHORE', 'ONSHORE', 'ONSHORE', 'OFFSHORE', 'ONSHORE', 'OFFSHORE',\n",
       "       'ONSHORE', 'ONSHORE', 'ONSHORE', 'ONSHORE', 'OFFSHORE', 'OFFSHORE',\n",
       "       'ONSHORE', 'ONSHORE', 'ONSHORE', 'ONSHORE', 'OFFSHORE', 'ONSHORE',\n",
       "       'OFFSHORE', 'OFFSHORE', 'ONSHORE', 'ONSHORE', 'OFFSHORE',\n",
       "       'OFFSHORE', 'ONSHORE', 'ONSHORE', 'ONSHORE', 'ONSHORE', 'ONSHORE',\n",
       "       'OFFSHORE', 'OFFSHORE', 'OFFSHORE', 'ONSHORE', 'OFFSHORE',\n",
       "       'ONSHORE', 'OFFSHORE', 'ONSHORE', 'OFFSHORE', 'ONSHORE', 'ONSHORE',\n",
       "       'ONSHORE', 'OFFSHORE', 'ONSHORE', 'ONSHORE', 'ONSHORE', 'ONSHORE',\n",
       "       'ONSHORE', 'ONSHORE', 'ONSHORE', 'ONSHORE', 'ONSHORE', 'OFFSHORE',\n",
       "       'ONSHORE', 'ONSHORE', 'ONSHORE', 'ONSHORE', 'ONSHORE', 'ONSHORE',\n",
       "       'ONSHORE', 'ONSHORE', 'ONSHORE', 'ONSHORE', 'ONSHORE', 'ONSHORE',\n",
       "       'ONSHORE', 'ONSHORE', 'ONSHORE', 'OFFSHORE', 'ONSHORE', 'ONSHORE',\n",
       "       'ONSHORE', 'ONSHORE', 'ONSHORE', 'ONSHORE', 'ONSHORE', 'ONSHORE',\n",
       "       'ONSHORE', 'ONSHORE', 'OFFSHORE', 'ONSHORE', 'ONSHORE', 'OFFSHORE',\n",
       "       'ONSHORE', 'ONSHORE', 'ONSHORE', 'ONSHORE', 'OFFSHORE', 'OFFSHORE',\n",
       "       'OFFSHORE', 'ONSHORE', 'ONSHORE', 'ONSHORE', 'ONSHORE', 'ONSHORE',\n",
       "       'ONSHORE', 'ONSHORE', 'ONSHORE', 'ONSHORE', 'ONSHORE', 'ONSHORE',\n",
       "       'OFFSHORE', 'ONSHORE', 'ONSHORE', 'ONSHORE', 'ONSHORE', 'ONSHORE',\n",
       "       'OFFSHORE', 'OFFSHORE', 'OFFSHORE', 'OFFSHORE', 'OFFSHORE',\n",
       "       'ONSHORE', 'ONSHORE', 'ONSHORE', 'ONSHORE', 'OFFSHORE', 'ONSHORE',\n",
       "       'OFFSHORE', 'ONSHORE', 'ONSHORE', 'ONSHORE', 'ONSHORE', 'ONSHORE',\n",
       "       'ONSHORE', 'ONSHORE', 'OFFSHORE', 'ONSHORE', 'ONSHORE', 'OFFSHORE',\n",
       "       'ONSHORE', 'ONSHORE', 'ONSHORE', 'ONSHORE'], dtype=object)"
      ]
     },
     "execution_count": 364,
     "metadata": {},
     "output_type": "execute_result"
    }
   ],
   "source": [
    "result2 = optimizer.predict(test_new)\n",
    "result2"
   ]
  },
  {
   "cell_type": "code",
   "execution_count": 365,
   "metadata": {},
   "outputs": [],
   "source": [
    "pd.DataFrame(result2).to_csv('ansver_xgb_2.csv', index=False, header=False)"
   ]
  },
  {
   "cell_type": "code",
   "execution_count": null,
   "metadata": {},
   "outputs": [],
   "source": []
  }
 ],
 "metadata": {
  "kernelspec": {
   "display_name": "Python 3",
   "language": "python",
   "name": "python3"
  },
  "language_info": {
   "codemirror_mode": {
    "name": "ipython",
    "version": 3
   },
   "file_extension": ".py",
   "mimetype": "text/x-python",
   "name": "python",
   "nbconvert_exporter": "python",
   "pygments_lexer": "ipython3",
   "version": "3.7.6"
  }
 },
 "nbformat": 4,
 "nbformat_minor": 4
}
